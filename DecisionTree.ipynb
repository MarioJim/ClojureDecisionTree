{
 "cells": [
  {
   "cell_type": "markdown",
   "metadata": {},
   "source": [
    "# Árbol de decisión\n",
    "- A01173359 - Mario Emilio Jiménez Vizcaíno\n",
    "- A01656159 - Juan Sebastián Rodríguez Galarza\n",
    "- A01656257 - Kevin Torres Martínez\n",
    "\n",
    "Queremos predecir la calidad del vino rojo en base a 6 variables independientes no lineales, por lo que el árbol de decisión es el algoritmo más indicado para esta situación porque nuestro conjunto de datos de entrada está etiquetado, además de que la predicción dependerá de varias variables continuas.\n",
    "\n",
    "Usamos el dataset [Red Wine Quality en Kaggle](https://www.kaggle.com/uciml/red-wine-quality-cortez-et-al-2009)"
   ]
  },
  {
   "cell_type": "markdown",
   "metadata": {},
   "source": [
    "# Columnas"
   ]
  },
  {
   "cell_type": "code",
   "execution_count": 29,
   "metadata": {},
   "outputs": [
    {
     "data": {
      "text/plain": [
       "nil"
      ]
     },
     "execution_count": 29,
     "metadata": {},
     "output_type": "execute_result"
    }
   ],
   "source": [
    "(require '[clojupyter.misc.helper :as helper])\n",
    "(helper/add-dependencies '[mrcsce/decision-tree \"0.1.0\"])\n",
    "(helper/add-dependencies '[org.clojure/data.csv \"0.1.2\"])\n",
    "(require '[clojure.data.csv :as csv])\n",
    "(require '[decision-tree.core :as dt])"
   ]
  },
  {
   "cell_type": "code",
   "execution_count": 30,
   "metadata": {
    "scrolled": true
   },
   "outputs": [
    {
     "data": {
      "text/plain": [
       "#'user/wineQuality"
      ]
     },
     "execution_count": 30,
     "metadata": {},
     "output_type": "execute_result"
    }
   ],
   "source": [
    "(def wineQuality(with-open [in-file (clojure.java.io/reader \"winequality-red.csv\")] \n",
    "    (doall (csv/read-csv in-file))))"
   ]
  },
  {
   "cell_type": "code",
   "execution_count": 31,
   "metadata": {},
   "outputs": [
    {
     "data": {
      "text/plain": [
       "user.Wine"
      ]
     },
     "execution_count": 31,
     "metadata": {},
     "output_type": "execute_result"
    }
   ],
   "source": [
    "(defrecord Wine [fixed_acidity volatile_acidity citrid_acid chlorides sulphates alcohol quality])"
   ]
  },
  {
   "cell_type": "code",
   "execution_count": 32,
   "metadata": {},
   "outputs": [
    {
     "data": {
      "text/plain": [
       "#'user/vectorToWine"
      ]
     },
     "execution_count": 32,
     "metadata": {},
     "output_type": "execute_result"
    }
   ],
   "source": [
    "(defn vectorToWine [v]\n",
    "    (Wine.\n",
    "        (Double. (nth v 0))\n",
    "        (Double. (nth v 1))\n",
    "        (Double. (nth v 2))\n",
    "        (Double. (nth v 4))\n",
    "        (Double. (nth v 9))\n",
    "        (Double. (nth v 10))\n",
    "        (if (< 5.5 (Integer. (nth v 11))) \"buena calidad\" \"mala calidad\")))"
   ]
  },
  {
   "cell_type": "code",
   "execution_count": 33,
   "metadata": {},
   "outputs": [
    {
     "data": {
      "text/plain": [
       "(#user.Wine{:fixed_acidity 7.4, :volatile_acidity 0.7, :citrid_acid 0.0, :chlorides 0.076, :sulphates 0.56, :alcohol 9.4, :quality \"mala calidad\"} #user.Wine{:fixed_acidity 7.8, :volatile_acidity 0.88, :citrid_acid 0.0, :chlorides 0.098, :sulphates 0.68, :alcohol 9.8, :quality \"mala calidad\"} #user.Wine{:fixed_acidity 7.8, :volatile_acidity 0.76, :citrid_acid 0.04, :chlorides 0.092, :sulphates 0.65, :alcohol 9.8, :quality \"mala calidad\"} #user.Wine{:fixed_acidity 11.2, :volatile_acidity 0.28, :citrid_acid 0.56, :chlorides 0.075, :sulphates 0.58, :alcohol 9.8, :quality \"buena calidad\"} #user.Wine{:fixed_acidity 7.4, :volatile_acidity 0.7, :citrid_acid 0.0, :chlorides 0.076, :sulphates 0.56, :alcohol 9.4, :quality \"mala calidad\"})"
      ]
     },
     "execution_count": 33,
     "metadata": {},
     "output_type": "execute_result"
    }
   ],
   "source": [
    "(def data (map #(vectorToWine %) (rest wineQuality)))\n",
    "(take 5 data)"
   ]
  },
  {
   "cell_type": "markdown",
   "metadata": {},
   "source": [
    "# División del dataset\n",
    "\n",
    "En total tenemos 1,599 datos. De los cuales los primeros 1,279 (80% del total) se utilizarán para entrenar el modelo de machine learning. Los 320 (20% del total) datos restantes se utilizarán realizar las pruebas."
   ]
  },
  {
   "cell_type": "code",
   "execution_count": 34,
   "metadata": {},
   "outputs": [
    {
     "data": {
      "text/plain": [
       "(#user.Wine{:fixed_acidity 7.4, :volatile_acidity 0.7, :citrid_acid 0.0, :chlorides 0.076, :sulphates 0.56, :alcohol 9.4, :quality \"mala calidad\"} #user.Wine{:fixed_acidity 7.8, :volatile_acidity 0.88, :citrid_acid 0.0, :chlorides 0.098, :sulphates 0.68, :alcohol 9.8, :quality \"mala calidad\"} #user.Wine{:fixed_acidity 7.8, :volatile_acidity 0.76, :citrid_acid 0.04, :chlorides 0.092, :sulphates 0.65, :alcohol 9.8, :quality \"mala calidad\"} #user.Wine{:fixed_acidity 11.2, :volatile_acidity 0.28, :citrid_acid 0.56, :chlorides 0.075, :sulphates 0.58, :alcohol 9.8, :quality \"buena calidad\"} #user.Wine{:fixed_acidity 7.4, :volatile_acidity 0.7, :citrid_acid 0.0, :chlorides 0.076, :sulphates 0.56, :alcohol 9.4, :quality \"mala calidad\"})"
      ]
     },
     "execution_count": 34,
     "metadata": {},
     "output_type": "execute_result"
    }
   ],
   "source": [
    "(def trainingData (take 1279 data))\n",
    "(take 5 trainingData)"
   ]
  },
  {
   "cell_type": "code",
   "execution_count": 35,
   "metadata": {},
   "outputs": [
    {
     "data": {
      "text/plain": [
       "(#user.Wine{:fixed_acidity 9.8, :volatile_acidity 0.3, :citrid_acid 0.39, :chlorides 0.062, :sulphates 0.57, :alcohol 11.5, :quality \"buena calidad\"} #user.Wine{:fixed_acidity 7.1, :volatile_acidity 0.46, :citrid_acid 0.2, :chlorides 0.077, :sulphates 0.64, :alcohol 10.4, :quality \"buena calidad\"} #user.Wine{:fixed_acidity 7.1, :volatile_acidity 0.46, :citrid_acid 0.2, :chlorides 0.077, :sulphates 0.64, :alcohol 10.4, :quality \"buena calidad\"} #user.Wine{:fixed_acidity 7.9, :volatile_acidity 0.765, :citrid_acid 0.0, :chlorides 0.084, :sulphates 0.68, :alcohol 10.9, :quality \"buena calidad\"} #user.Wine{:fixed_acidity 8.7, :volatile_acidity 0.63, :citrid_acid 0.28, :chlorides 0.096, :sulphates 0.63, :alcohol 10.2, :quality \"buena calidad\"})"
      ]
     },
     "execution_count": 35,
     "metadata": {},
     "output_type": "execute_result"
    }
   ],
   "source": [
    "(def testingData (drop 1279 data))\n",
    "(take 5 testingData)"
   ]
  },
  {
   "cell_type": "code",
   "execution_count": 36,
   "metadata": {},
   "outputs": [
    {
     "data": {
      "text/plain": [
       "#'user/tree"
      ]
     },
     "execution_count": 36,
     "metadata": {},
     "output_type": "execute_result"
    }
   ],
   "source": [
    "(def tree (dt/make-decision-tree trainingData 3 :quality))"
   ]
  },
  {
   "cell_type": "code",
   "execution_count": 26,
   "metadata": {},
   "outputs": [
    {
     "data": {
      "text/plain": [
       "#'user/testCollection"
      ]
     },
     "execution_count": 26,
     "metadata": {},
     "output_type": "execute_result"
    }
   ],
   "source": [
    "(defn testCollection [tree testColl] \n",
    "    (let [predictData (pmap #(dt/predict tree %) testColl)\n",
    "          realData (map #(:quality %) testColl)\n",
    "          correctPredictions (map (fn [p r] (if (= p r) 1 0)) predictData realData)]\n",
    "        (/ (reduce + correctPredictions) (count predictData))))"
   ]
  },
  {
   "cell_type": "code",
   "execution_count": 27,
   "metadata": {},
   "outputs": [
    {
     "data": {
      "text/plain": [
       "71.25"
      ]
     },
     "execution_count": 27,
     "metadata": {},
     "output_type": "execute_result"
    }
   ],
   "source": [
    "(* 100.0 (testCollection tree testingData))"
   ]
  },
  {
   "cell_type": "code",
   "execution_count": 28,
   "metadata": {},
   "outputs": [
    {
     "data": {
      "text/html": [
       "<?xml version=\"1.0\" encoding=\"UTF-8\" standalone=\"no\"?>\n",
       "<!DOCTYPE svg PUBLIC \"-//W3C//DTD SVG 1.1//EN\"\n",
       " \"http://www.w3.org/Graphics/SVG/1.1/DTD/svg11.dtd\">\n",
       "<!-- Generated by graphviz version 2.40.1 (20161225.0304)\n",
       " -->\n",
       "<!-- Title: %0 Pages: 1 -->\n",
       "<svg width=\"109pt\" height=\"188pt\"\n",
       " viewBox=\"0.00 0.00 109.36 188.00\" xmlns=\"http://www.w3.org/2000/svg\" xmlns:xlink=\"http://www.w3.org/1999/xlink\">\n",
       "<g id=\"graph0\" class=\"graph\" transform=\"scale(1 1) rotate(0) translate(4 184)\">\n",
       "<title>%0</title>\n",
       "<polygon fill=\"#ffffff\" stroke=\"transparent\" points=\"-4,4 -4,-184 105.3577,-184 105.3577,4 -4,4\"/>\n",
       "<!-- nodo1 -->\n",
       "<g id=\"node1\" class=\"node\">\n",
       "<title>nodo1</title>\n",
       "<ellipse fill=\"none\" stroke=\"#000000\" cx=\"66.1789\" cy=\"-162\" rx=\"35.3587\" ry=\"18\"/>\n",
       "<text text-anchor=\"middle\" x=\"66.1789\" y=\"-157.8\" font-family=\"Times,serif\" font-size=\"14.00\" fill=\"#000000\">nodo1</text>\n",
       "</g>\n",
       "<!-- nodo2 -->\n",
       "<g id=\"node2\" class=\"node\">\n",
       "<title>nodo2</title>\n",
       "<ellipse fill=\"none\" stroke=\"#000000\" cx=\"35.1789\" cy=\"-90\" rx=\"35.3587\" ry=\"18\"/>\n",
       "<text text-anchor=\"middle\" x=\"35.1789\" y=\"-85.8\" font-family=\"Times,serif\" font-size=\"14.00\" fill=\"#000000\">nodo2</text>\n",
       "</g>\n",
       "<!-- nodo1&#45;&gt;nodo2 -->\n",
       "<g id=\"edge1\" class=\"edge\">\n",
       "<title>nodo1&#45;&gt;nodo2</title>\n",
       "<path fill=\"none\" stroke=\"#000000\" d=\"M58.5159,-144.2022C54.9872,-136.0064 50.723,-126.1024 46.8101,-117.0145\"/>\n",
       "<polygon fill=\"#000000\" stroke=\"#000000\" points=\"49.923,-115.3938 42.7536,-107.593 43.4936,-118.162 49.923,-115.3938\"/>\n",
       "</g>\n",
       "<!-- nodo3 -->\n",
       "<g id=\"node3\" class=\"node\">\n",
       "<title>nodo3</title>\n",
       "<ellipse fill=\"none\" stroke=\"#000000\" cx=\"66.1789\" cy=\"-18\" rx=\"35.3587\" ry=\"18\"/>\n",
       "<text text-anchor=\"middle\" x=\"66.1789\" y=\"-13.8\" font-family=\"Times,serif\" font-size=\"14.00\" fill=\"#000000\">nodo3</text>\n",
       "</g>\n",
       "<!-- nodo1&#45;&gt;nodo3 -->\n",
       "<g id=\"edge3\" class=\"edge\">\n",
       "<title>nodo1&#45;&gt;nodo3</title>\n",
       "<path fill=\"none\" stroke=\"#000000\" d=\"M71.5879,-144.1926C74.4743,-133.7568 77.7243,-120.2568 79.1789,-108 81.0644,-92.1115 81.0644,-87.8885 79.1789,-72 78.1448,-63.2862 76.2032,-53.944 74.13,-45.5212\"/>\n",
       "<polygon fill=\"#000000\" stroke=\"#000000\" points=\"77.5056,-44.5955 71.5879,-35.8074 70.7337,-46.3677 77.5056,-44.5955\"/>\n",
       "</g>\n",
       "<!-- nodo2&#45;&gt;nodo3 -->\n",
       "<g id=\"edge2\" class=\"edge\">\n",
       "<title>nodo2&#45;&gt;nodo3</title>\n",
       "<path fill=\"none\" stroke=\"#000000\" d=\"M42.8418,-72.2022C46.3706,-64.0064 50.6348,-54.1024 54.5476,-45.0145\"/>\n",
       "<polygon fill=\"#000000\" stroke=\"#000000\" points=\"57.8641,-46.162 58.6041,-35.593 51.4348,-43.3938 57.8641,-46.162\"/>\n",
       "</g>\n",
       "</g>\n",
       "</svg>\n"
      ]
     },
     "execution_count": 28,
     "metadata": {},
     "output_type": "execute_result"
    }
   ],
   "source": [
    "(require '[clojupyter.display :as display])\n",
    "(display/html (slurp \"https://quickchart.io/graphviz?graph=digraph{nodo1->nodo2->nodo3;nodo1->nodo3}\"))"
   ]
  }
 ],
 "metadata": {
  "kernelspec": {
   "display_name": "Clojure (clojupyter=0.3.2=1)",
   "language": "clojure",
   "name": "conda-clojupyter"
  },
  "language_info": {
   "file_extension": ".clj",
   "mimetype": "text/x-clojure",
   "name": "clojure",
   "version": "1.10.1"
  }
 },
 "nbformat": 4,
 "nbformat_minor": 4
}
