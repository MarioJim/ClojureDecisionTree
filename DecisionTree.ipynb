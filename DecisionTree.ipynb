{
 "cells": [
  {
   "cell_type": "markdown",
   "metadata": {},
   "source": [
    "# Árbol de decisión\n",
    "- A01173359 - Mario Emilio Jiménez Vizcaíno\n",
    "- A01656159 - Juan Sebastián Rodríguez Galarza\n",
    "- A01656257 - Kevin Torres Martínez\n",
    "\n",
    "Queremos predecir la calidad del vino rojo en base a 6 variables independientes no lineales, por lo que el árbol de decisión es el algoritmo más indicado para esta situación porque nuestro conjunto de datos de entrada está etiquetado, además de que la predicción dependerá de varias variables continuas.\n",
    "\n",
    "Usamos el dataset [Red Wine Quality en Kaggle](https://www.kaggle.com/uciml/red-wine-quality-cortez-et-al-2009)"
   ]
  },
  {
   "cell_type": "markdown",
   "metadata": {},
   "source": [
    "## Introducción\n",
    "\n",
    "Para este trabajo vamos a utilizar las dependencias de:\n",
    "- clojure.data.csv para leer el csv y obtener los datos para el árbol de decisión\n",
    "- decision-tree.core para el procesamiento y obtener un árbol de decisión. Implementado por Miyoshi Ryota\n",
    "- clojupyter.display para renderear un svg "
   ]
  },
  {
   "cell_type": "code",
   "execution_count": 22,
   "metadata": {},
   "outputs": [
    {
     "data": {
      "text/plain": [
       "nil"
      ]
     },
     "execution_count": 22,
     "metadata": {},
     "output_type": "execute_result"
    }
   ],
   "source": [
    "(require '[clojupyter.misc.helper :as helper])\n",
    "(helper/add-dependencies '[mrcsce/decision-tree \"0.1.0\"])\n",
    "(helper/add-dependencies '[org.clojure/data.csv \"0.1.2\"])\n",
    "(helper/add-dependencies '[clj-http \"3.11.0\"])\n",
    "(require '[clojure.data.csv :as csv])\n",
    "(require '[decision-tree.core :as dt])\n",
    "(require '[clojupyter.display :as display])\n",
    "(require '[clojure.inspector :as inspector])\n",
    "(require '[clj-http.client :as client])"
   ]
  },
  {
   "cell_type": "code",
   "execution_count": 2,
   "metadata": {
    "scrolled": true
   },
   "outputs": [
    {
     "data": {
      "text/plain": [
       "#'user/wineQuality"
      ]
     },
     "execution_count": 2,
     "metadata": {},
     "output_type": "execute_result"
    }
   ],
   "source": [
    "(def wineQuality(with-open [in-file (clojure.java.io/reader \"winequality-red.csv\")] \n",
    "    (doall (csv/read-csv in-file))))"
   ]
  },
  {
   "cell_type": "code",
   "execution_count": 3,
   "metadata": {},
   "outputs": [
    {
     "data": {
      "text/plain": [
       "user.Wine"
      ]
     },
     "execution_count": 3,
     "metadata": {},
     "output_type": "execute_result"
    }
   ],
   "source": [
    "(defrecord Wine [fixed_acidity volatile_acidity citrid_acid chlorides sulphates alcohol quality])"
   ]
  },
  {
   "cell_type": "code",
   "execution_count": 4,
   "metadata": {},
   "outputs": [
    {
     "data": {
      "text/plain": [
       "#'user/vectorToWine"
      ]
     },
     "execution_count": 4,
     "metadata": {},
     "output_type": "execute_result"
    }
   ],
   "source": [
    "(defn vectorToWine [v]\n",
    "    (Wine.\n",
    "        (Double. (nth v 0))\n",
    "        (Double. (nth v 1))\n",
    "        (Double. (nth v 2))\n",
    "        (Double. (nth v 4))\n",
    "        (Double. (nth v 9))\n",
    "        (Double. (nth v 10))\n",
    "        (if (< 5.5 (Integer. (nth v 11))) \"buena calidad\" \"mala calidad\")))"
   ]
  },
  {
   "cell_type": "code",
   "execution_count": 5,
   "metadata": {},
   "outputs": [
    {
     "data": {
      "text/plain": [
       "(#user.Wine{:fixed_acidity 7.4, :volatile_acidity 0.7, :citrid_acid 0.0, :chlorides 0.076, :sulphates 0.56, :alcohol 9.4, :quality \"mala calidad\"} #user.Wine{:fixed_acidity 7.8, :volatile_acidity 0.88, :citrid_acid 0.0, :chlorides 0.098, :sulphates 0.68, :alcohol 9.8, :quality \"mala calidad\"} #user.Wine{:fixed_acidity 7.8, :volatile_acidity 0.76, :citrid_acid 0.04, :chlorides 0.092, :sulphates 0.65, :alcohol 9.8, :quality \"mala calidad\"} #user.Wine{:fixed_acidity 11.2, :volatile_acidity 0.28, :citrid_acid 0.56, :chlorides 0.075, :sulphates 0.58, :alcohol 9.8, :quality \"buena calidad\"} #user.Wine{:fixed_acidity 7.4, :volatile_acidity 0.7, :citrid_acid 0.0, :chlorides 0.076, :sulphates 0.56, :alcohol 9.4, :quality \"mala calidad\"})"
      ]
     },
     "execution_count": 5,
     "metadata": {},
     "output_type": "execute_result"
    }
   ],
   "source": [
    "(def data (map #(vectorToWine %) (rest wineQuality)))\n",
    "(take 5 data)"
   ]
  },
  {
   "cell_type": "markdown",
   "metadata": {},
   "source": [
    "# División del dataset\n",
    "\n",
    "En total tenemos 1,599 datos. De los cuales los primeros 1,279 (80% del total) se utilizarán para entrenar el modelo de machine learning. Los 320 (20% del total) datos restantes se utilizarán realizar las pruebas."
   ]
  },
  {
   "cell_type": "code",
   "execution_count": 6,
   "metadata": {},
   "outputs": [
    {
     "data": {
      "text/plain": [
       "(#user.Wine{:fixed_acidity 7.4, :volatile_acidity 0.7, :citrid_acid 0.0, :chlorides 0.076, :sulphates 0.56, :alcohol 9.4, :quality \"mala calidad\"} #user.Wine{:fixed_acidity 7.8, :volatile_acidity 0.88, :citrid_acid 0.0, :chlorides 0.098, :sulphates 0.68, :alcohol 9.8, :quality \"mala calidad\"} #user.Wine{:fixed_acidity 7.8, :volatile_acidity 0.76, :citrid_acid 0.04, :chlorides 0.092, :sulphates 0.65, :alcohol 9.8, :quality \"mala calidad\"} #user.Wine{:fixed_acidity 11.2, :volatile_acidity 0.28, :citrid_acid 0.56, :chlorides 0.075, :sulphates 0.58, :alcohol 9.8, :quality \"buena calidad\"} #user.Wine{:fixed_acidity 7.4, :volatile_acidity 0.7, :citrid_acid 0.0, :chlorides 0.076, :sulphates 0.56, :alcohol 9.4, :quality \"mala calidad\"})"
      ]
     },
     "execution_count": 6,
     "metadata": {},
     "output_type": "execute_result"
    }
   ],
   "source": [
    "(def trainingData (take 1279 data))\n",
    "(take 5 trainingData)"
   ]
  },
  {
   "cell_type": "code",
   "execution_count": 7,
   "metadata": {},
   "outputs": [
    {
     "data": {
      "text/plain": [
       "(#user.Wine{:fixed_acidity 9.8, :volatile_acidity 0.3, :citrid_acid 0.39, :chlorides 0.062, :sulphates 0.57, :alcohol 11.5, :quality \"buena calidad\"} #user.Wine{:fixed_acidity 7.1, :volatile_acidity 0.46, :citrid_acid 0.2, :chlorides 0.077, :sulphates 0.64, :alcohol 10.4, :quality \"buena calidad\"} #user.Wine{:fixed_acidity 7.1, :volatile_acidity 0.46, :citrid_acid 0.2, :chlorides 0.077, :sulphates 0.64, :alcohol 10.4, :quality \"buena calidad\"} #user.Wine{:fixed_acidity 7.9, :volatile_acidity 0.765, :citrid_acid 0.0, :chlorides 0.084, :sulphates 0.68, :alcohol 10.9, :quality \"buena calidad\"} #user.Wine{:fixed_acidity 8.7, :volatile_acidity 0.63, :citrid_acid 0.28, :chlorides 0.096, :sulphates 0.63, :alcohol 10.2, :quality \"buena calidad\"})"
      ]
     },
     "execution_count": 7,
     "metadata": {},
     "output_type": "execute_result"
    }
   ],
   "source": [
    "(def testingData (drop 1279 data))\n",
    "(take 5 testingData)"
   ]
  },
  {
   "cell_type": "code",
   "execution_count": 8,
   "metadata": {},
   "outputs": [
    {
     "data": {
      "text/plain": [
       "#'user/tree"
      ]
     },
     "execution_count": 8,
     "metadata": {},
     "output_type": "execute_result"
    }
   ],
   "source": [
    "(def tree (dt/make-decision-tree trainingData 3 :quality))"
   ]
  },
  {
   "cell_type": "code",
   "execution_count": 9,
   "metadata": {},
   "outputs": [
    {
     "data": {
      "text/plain": [
       "#'user/testCollection"
      ]
     },
     "execution_count": 9,
     "metadata": {},
     "output_type": "execute_result"
    }
   ],
   "source": [
    "(defn testCollection [tree testColl] \n",
    "    (let [predictData (pmap #(dt/predict tree %) testColl)\n",
    "          realData (map #(:quality %) testColl)\n",
    "          correctPredictions (map (fn [p r] (if (= p r) 1 0)) predictData realData)]\n",
    "        (/ (reduce + correctPredictions) (count predictData))))"
   ]
  },
  {
   "cell_type": "code",
   "execution_count": 10,
   "metadata": {},
   "outputs": [
    {
     "data": {
      "text/plain": [
       "71.25"
      ]
     },
     "execution_count": 10,
     "metadata": {},
     "output_type": "execute_result"
    }
   ],
   "source": [
    "(* 100.0 (testCollection tree testingData))"
   ]
  },
  {
   "cell_type": "code",
   "execution_count": 18,
   "metadata": {},
   "outputs": [
    {
     "data": {
      "text/plain": [
       "#object[javax.swing.JFrame 0x682eaa4a \"javax.swing.JFrame[frame0,0,0,400x600,layout=java.awt.BorderLayout,title=Clojure Inspector,resizable,normal,defaultCloseOperation=HIDE_ON_CLOSE,rootPane=javax.swing.JRootPane[,8,31,384x561,layout=javax.swing.JRootPane$RootLayout,alignmentX=0.0,alignmentY=0.0,border=,flags=16777673,maximumSize=,minimumSize=,preferredSize=],rootPaneCheckingEnabled=true]\"]"
      ]
     },
     "execution_count": 18,
     "metadata": {},
     "output_type": "execute_result"
    }
   ],
   "source": [
    "(inspector/inspect-tree tree)"
   ]
  },
  {
   "cell_type": "code",
   "execution_count": 39,
   "metadata": {},
   "outputs": [
    {
     "data": {
      "text/html": [
       "<?xml version=\"1.0\" encoding=\"UTF-8\" standalone=\"no\"?>\n",
       "<!DOCTYPE svg PUBLIC \"-//W3C//DTD SVG 1.1//EN\"\n",
       " \"http://www.w3.org/Graphics/SVG/1.1/DTD/svg11.dtd\">\n",
       "<!-- Generated by graphviz version 2.40.1 (20161225.0304)\n",
       " -->\n",
       "<!-- Title: %0 Pages: 1 -->\n",
       "<svg width=\"1119pt\" height=\"310pt\"\n",
       " viewBox=\"0.00 0.00 1119.21 310.40\" xmlns=\"http://www.w3.org/2000/svg\" xmlns:xlink=\"http://www.w3.org/1999/xlink\">\n",
       "<g id=\"graph0\" class=\"graph\" transform=\"scale(1 1) rotate(0) translate(4 306.4)\">\n",
       "<title>%0</title>\n",
       "<polygon fill=\"#ffffff\" stroke=\"transparent\" points=\"-4,4 -4,-306.4 1115.2088,-306.4 1115.2088,4 -4,4\"/>\n",
       "<!-- r -->\n",
       "<g id=\"node1\" class=\"node\">\n",
       "<title>r</title>\n",
       "<ellipse fill=\"none\" stroke=\"#000000\" cx=\"520.1044\" cy=\"-284.4\" rx=\"42.2932\" ry=\"18\"/>\n",
       "<text text-anchor=\"middle\" x=\"520.1044\" y=\"-280.2\" font-family=\"Times,serif\" font-size=\"14.00\" fill=\"#000000\">:alcohol</text>\n",
       "</g>\n",
       "<!-- rl -->\n",
       "<g id=\"node2\" class=\"node\">\n",
       "<title>rl</title>\n",
       "<ellipse fill=\"none\" stroke=\"#000000\" cx=\"378.1044\" cy=\"-195.6\" rx=\"42.2932\" ry=\"18\"/>\n",
       "<text text-anchor=\"middle\" x=\"378.1044\" y=\"-191.4\" font-family=\"Times,serif\" font-size=\"14.00\" fill=\"#000000\">:alcohol</text>\n",
       "</g>\n",
       "<!-- r&#45;&gt;rl -->\n",
       "<g id=\"edge1\" class=\"edge\">\n",
       "<title>r&#45;&gt;rl</title>\n",
       "<path fill=\"none\" stroke=\"#000000\" d=\"M496.016,-269.3363C472.658,-254.7293 437.0388,-232.4548 411.0614,-216.2098\"/>\n",
       "<polygon fill=\"#000000\" stroke=\"#000000\" points=\"412.6454,-213.0723 402.3109,-210.7376 408.9338,-219.0073 412.6454,-213.0723\"/>\n",
       "<text text-anchor=\"middle\" x=\"476.5517\" y=\"-235.8\" font-family=\"Times,serif\" font-size=\"14.00\" fill=\"#000000\">&gt; 9.8</text>\n",
       "</g>\n",
       "<!-- rr -->\n",
       "<g id=\"node3\" class=\"node\">\n",
       "<title>rr</title>\n",
       "<ellipse fill=\"none\" stroke=\"#000000\" cx=\"688.1044\" cy=\"-195.6\" rx=\"49.8156\" ry=\"18\"/>\n",
       "<text text-anchor=\"middle\" x=\"688.1044\" y=\"-191.4\" font-family=\"Times,serif\" font-size=\"14.00\" fill=\"#000000\">:sulphates</text>\n",
       "</g>\n",
       "<!-- r&#45;&gt;rr -->\n",
       "<g id=\"edge2\" class=\"edge\">\n",
       "<title>r&#45;&gt;rr</title>\n",
       "<path fill=\"none\" stroke=\"#000000\" d=\"M546.7245,-270.3294C574.8506,-255.4627 619.4172,-231.9061 650.9866,-215.2194\"/>\n",
       "<polygon fill=\"#000000\" stroke=\"#000000\" points=\"652.7219,-218.2611 659.9273,-210.4936 649.4507,-212.0724 652.7219,-218.2611\"/>\n",
       "<text text-anchor=\"middle\" x=\"634.5517\" y=\"-235.8\" font-family=\"Times,serif\" font-size=\"14.00\" fill=\"#000000\">&lt; 9.8</text>\n",
       "</g>\n",
       "<!-- rll -->\n",
       "<g id=\"node4\" class=\"node\">\n",
       "<title>rll</title>\n",
       "<ellipse fill=\"none\" stroke=\"#000000\" cx=\"202.1044\" cy=\"-106.8\" rx=\"73.5907\" ry=\"18\"/>\n",
       "<text text-anchor=\"middle\" x=\"202.1044\" y=\"-102.6\" font-family=\"Times,serif\" font-size=\"14.00\" fill=\"#000000\">:volatile_acidity</text>\n",
       "</g>\n",
       "<!-- rl&#45;&gt;rll -->\n",
       "<g id=\"edge3\" class=\"edge\">\n",
       "<title>rl&#45;&gt;rll</title>\n",
       "<path fill=\"none\" stroke=\"#000000\" d=\"M350.6044,-181.725C321.8837,-167.2341 276.4989,-144.3354 243.4563,-127.6639\"/>\n",
       "<polygon fill=\"#000000\" stroke=\"#000000\" points=\"244.9926,-124.5188 234.488,-123.139 241.8394,-130.7684 244.9926,-124.5188\"/>\n",
       "<text text-anchor=\"middle\" x=\"324.0517\" y=\"-147\" font-family=\"Times,serif\" font-size=\"14.00\" fill=\"#000000\">&gt; 11.2</text>\n",
       "</g>\n",
       "<!-- rlr -->\n",
       "<g id=\"node5\" class=\"node\">\n",
       "<title>rlr</title>\n",
       "<ellipse fill=\"none\" stroke=\"#000000\" cx=\"378.1044\" cy=\"-106.8\" rx=\"49.8156\" ry=\"18\"/>\n",
       "<text text-anchor=\"middle\" x=\"378.1044\" y=\"-102.6\" font-family=\"Times,serif\" font-size=\"14.00\" fill=\"#000000\">:sulphates</text>\n",
       "</g>\n",
       "<!-- rl&#45;&gt;rlr -->\n",
       "<g id=\"edge4\" class=\"edge\">\n",
       "<title>rl&#45;&gt;rlr</title>\n",
       "<path fill=\"none\" stroke=\"#000000\" d=\"M378.1044,-177.2006C378.1044,-165.0949 378.1044,-149.0076 378.1044,-135.2674\"/>\n",
       "<polygon fill=\"#000000\" stroke=\"#000000\" points=\"381.6045,-134.872 378.1044,-124.872 374.6045,-134.8721 381.6045,-134.872\"/>\n",
       "<text text-anchor=\"middle\" x=\"396.0517\" y=\"-147\" font-family=\"Times,serif\" font-size=\"14.00\" fill=\"#000000\">&lt; 11.2</text>\n",
       "</g>\n",
       "<!-- rrl -->\n",
       "<g id=\"node10\" class=\"node\">\n",
       "<title>rrl</title>\n",
       "<ellipse fill=\"none\" stroke=\"#000000\" cx=\"688.1044\" cy=\"-106.8\" rx=\"64.8447\" ry=\"18\"/>\n",
       "<text text-anchor=\"middle\" x=\"688.1044\" y=\"-102.6\" font-family=\"Times,serif\" font-size=\"14.00\" fill=\"#000000\">:fixed_acidity</text>\n",
       "</g>\n",
       "<!-- rr&#45;&gt;rrl -->\n",
       "<g id=\"edge9\" class=\"edge\">\n",
       "<title>rr&#45;&gt;rrl</title>\n",
       "<path fill=\"none\" stroke=\"#000000\" d=\"M688.1044,-177.2006C688.1044,-165.0949 688.1044,-149.0076 688.1044,-135.2674\"/>\n",
       "<polygon fill=\"#000000\" stroke=\"#000000\" points=\"691.6045,-134.872 688.1044,-124.872 684.6045,-134.8721 691.6045,-134.872\"/>\n",
       "<text text-anchor=\"middle\" x=\"706.0517\" y=\"-147\" font-family=\"Times,serif\" font-size=\"14.00\" fill=\"#000000\">&gt; 0.57</text>\n",
       "</g>\n",
       "<!-- rrr -->\n",
       "<g id=\"node11\" class=\"node\">\n",
       "<title>rrr</title>\n",
       "<ellipse fill=\"none\" stroke=\"#000000\" cx=\"913.1044\" cy=\"-106.8\" rx=\"49.2338\" ry=\"18\"/>\n",
       "<text text-anchor=\"middle\" x=\"913.1044\" y=\"-102.6\" font-family=\"Times,serif\" font-size=\"14.00\" fill=\"#000000\">:chlorides</text>\n",
       "</g>\n",
       "<!-- rr&#45;&gt;rrr -->\n",
       "<g id=\"edge10\" class=\"edge\">\n",
       "<title>rr&#45;&gt;rrr</title>\n",
       "<path fill=\"none\" stroke=\"#000000\" d=\"M721.7892,-182.3057C761.3378,-166.6972 827.0013,-140.782 870.1698,-123.7448\"/>\n",
       "<polygon fill=\"#000000\" stroke=\"#000000\" points=\"871.5405,-126.9667 879.5573,-120.0399 868.9706,-120.4555 871.5405,-126.9667\"/>\n",
       "<text text-anchor=\"middle\" x=\"839.0517\" y=\"-147\" font-family=\"Times,serif\" font-size=\"14.00\" fill=\"#000000\">&lt; 0.57</text>\n",
       "</g>\n",
       "<!-- rlll -->\n",
       "<g id=\"node6\" class=\"node\">\n",
       "<title>rlll</title>\n",
       "<ellipse fill=\"none\" stroke=\"#000000\" cx=\"60.1044\" cy=\"-18\" rx=\"60.209\" ry=\"18\"/>\n",
       "<text text-anchor=\"middle\" x=\"60.1044\" y=\"-13.8\" font-family=\"Times,serif\" font-size=\"14.00\" fill=\"#000000\">mala calidad</text>\n",
       "</g>\n",
       "<!-- rll&#45;&gt;rlll -->\n",
       "<g id=\"edge5\" class=\"edge\">\n",
       "<title>rll&#45;&gt;rlll</title>\n",
       "<path fill=\"none\" stroke=\"#000000\" d=\"M175.0611,-89.8884C152.2708,-75.6364 119.5186,-55.1548 94.7991,-39.6964\"/>\n",
       "<polygon fill=\"#000000\" stroke=\"#000000\" points=\"96.4231,-36.584 86.0887,-34.2493 92.7116,-42.5191 96.4231,-36.584\"/>\n",
       "<text text-anchor=\"middle\" x=\"162.0517\" y=\"-58.2\" font-family=\"Times,serif\" font-size=\"14.00\" fill=\"#000000\">&gt; 0.76</text>\n",
       "</g>\n",
       "<!-- rllr -->\n",
       "<g id=\"node7\" class=\"node\">\n",
       "<title>rllr</title>\n",
       "<ellipse fill=\"none\" stroke=\"#000000\" cx=\"202.1044\" cy=\"-18\" rx=\"64.2882\" ry=\"18\"/>\n",
       "<text text-anchor=\"middle\" x=\"202.1044\" y=\"-13.8\" font-family=\"Times,serif\" font-size=\"14.00\" fill=\"#000000\">buena calidad</text>\n",
       "</g>\n",
       "<!-- rll&#45;&gt;rllr -->\n",
       "<g id=\"edge6\" class=\"edge\">\n",
       "<title>rll&#45;&gt;rllr</title>\n",
       "<path fill=\"none\" stroke=\"#000000\" d=\"M202.1044,-88.4006C202.1044,-76.2949 202.1044,-60.2076 202.1044,-46.4674\"/>\n",
       "<polygon fill=\"#000000\" stroke=\"#000000\" points=\"205.6045,-46.072 202.1044,-36.072 198.6045,-46.0721 205.6045,-46.072\"/>\n",
       "<text text-anchor=\"middle\" x=\"220.0517\" y=\"-58.2\" font-family=\"Times,serif\" font-size=\"14.00\" fill=\"#000000\">&lt; 0.76</text>\n",
       "</g>\n",
       "<!-- rlrl -->\n",
       "<g id=\"node8\" class=\"node\">\n",
       "<title>rlrl</title>\n",
       "<ellipse fill=\"none\" stroke=\"#000000\" cx=\"349.1044\" cy=\"-18\" rx=\"64.2882\" ry=\"18\"/>\n",
       "<text text-anchor=\"middle\" x=\"349.1044\" y=\"-13.8\" font-family=\"Times,serif\" font-size=\"14.00\" fill=\"#000000\">buena calidad</text>\n",
       "</g>\n",
       "<!-- rlr&#45;&gt;rlrl -->\n",
       "<g id=\"edge7\" class=\"edge\">\n",
       "<title>rlr&#45;&gt;rlrl</title>\n",
       "<path fill=\"none\" stroke=\"#000000\" d=\"M372.2358,-88.83C368.1871,-76.4327 362.7269,-59.713 358.1281,-45.6312\"/>\n",
       "<polygon fill=\"#000000\" stroke=\"#000000\" points=\"361.3958,-44.3626 354.9643,-35.9433 354.7417,-46.5358 361.3958,-44.3626\"/>\n",
       "<text text-anchor=\"middle\" x=\"385.0517\" y=\"-58.2\" font-family=\"Times,serif\" font-size=\"14.00\" fill=\"#000000\">&gt; 0.54</text>\n",
       "</g>\n",
       "<!-- rlrr -->\n",
       "<g id=\"node9\" class=\"node\">\n",
       "<title>rlrr</title>\n",
       "<ellipse fill=\"none\" stroke=\"#000000\" cx=\"491.1044\" cy=\"-18\" rx=\"60.209\" ry=\"18\"/>\n",
       "<text text-anchor=\"middle\" x=\"491.1044\" y=\"-13.8\" font-family=\"Times,serif\" font-size=\"14.00\" fill=\"#000000\">mala calidad</text>\n",
       "</g>\n",
       "<!-- rlr&#45;&gt;rlrr -->\n",
       "<g id=\"edge8\" class=\"edge\">\n",
       "<title>rlr&#45;&gt;rlrr</title>\n",
       "<path fill=\"none\" stroke=\"#000000\" d=\"M399.094,-90.3055C416.6301,-76.5249 441.8413,-56.713 461.4405,-41.3111\"/>\n",
       "<polygon fill=\"#000000\" stroke=\"#000000\" points=\"463.7578,-43.9415 469.4579,-35.0107 459.4326,-38.4376 463.7578,-43.9415\"/>\n",
       "<text text-anchor=\"middle\" x=\"463.0517\" y=\"-58.2\" font-family=\"Times,serif\" font-size=\"14.00\" fill=\"#000000\">&lt; 0.54</text>\n",
       "</g>\n",
       "<!-- rrll -->\n",
       "<g id=\"node12\" class=\"node\">\n",
       "<title>rrll</title>\n",
       "<ellipse fill=\"none\" stroke=\"#000000\" cx=\"633.1044\" cy=\"-18\" rx=\"64.2882\" ry=\"18\"/>\n",
       "<text text-anchor=\"middle\" x=\"633.1044\" y=\"-13.8\" font-family=\"Times,serif\" font-size=\"14.00\" fill=\"#000000\">buena calidad</text>\n",
       "</g>\n",
       "<!-- rrl&#45;&gt;rrll -->\n",
       "<g id=\"edge11\" class=\"edge\">\n",
       "<title>rrl&#45;&gt;rrll</title>\n",
       "<path fill=\"none\" stroke=\"#000000\" d=\"M676.9743,-88.83C669.1467,-76.1919 658.537,-59.062 649.7122,-44.814\"/>\n",
       "<polygon fill=\"#000000\" stroke=\"#000000\" points=\"652.459,-42.6018 644.2179,-35.9433 646.508,-46.2877 652.459,-42.6018\"/>\n",
       "<text text-anchor=\"middle\" x=\"684.0517\" y=\"-58.2\" font-family=\"Times,serif\" font-size=\"14.00\" fill=\"#000000\">&gt; 10.7</text>\n",
       "</g>\n",
       "<!-- rrlr -->\n",
       "<g id=\"node13\" class=\"node\">\n",
       "<title>rrlr</title>\n",
       "<ellipse fill=\"none\" stroke=\"#000000\" cx=\"775.1044\" cy=\"-18\" rx=\"60.209\" ry=\"18\"/>\n",
       "<text text-anchor=\"middle\" x=\"775.1044\" y=\"-13.8\" font-family=\"Times,serif\" font-size=\"14.00\" fill=\"#000000\">mala calidad</text>\n",
       "</g>\n",
       "<!-- rrl&#45;&gt;rrlr -->\n",
       "<g id=\"edge12\" class=\"edge\">\n",
       "<title>rrl&#45;&gt;rrlr</title>\n",
       "<path fill=\"none\" stroke=\"#000000\" d=\"M705.2928,-89.256C718.2811,-75.999 736.2823,-57.6254 750.7521,-42.8562\"/>\n",
       "<polygon fill=\"#000000\" stroke=\"#000000\" points=\"753.4535,-45.1001 757.9517,-35.5076 748.4533,-40.2013 753.4535,-45.1001\"/>\n",
       "<text text-anchor=\"middle\" x=\"758.0517\" y=\"-58.2\" font-family=\"Times,serif\" font-size=\"14.00\" fill=\"#000000\">&lt; 10.7</text>\n",
       "</g>\n",
       "<!-- rrrl -->\n",
       "<g id=\"node14\" class=\"node\">\n",
       "<title>rrrl</title>\n",
       "<ellipse fill=\"none\" stroke=\"#000000\" cx=\"913.1044\" cy=\"-18\" rx=\"60.209\" ry=\"18\"/>\n",
       "<text text-anchor=\"middle\" x=\"913.1044\" y=\"-13.8\" font-family=\"Times,serif\" font-size=\"14.00\" fill=\"#000000\">mala calidad</text>\n",
       "</g>\n",
       "<!-- rrr&#45;&gt;rrrl -->\n",
       "<g id=\"edge13\" class=\"edge\">\n",
       "<title>rrr&#45;&gt;rrrl</title>\n",
       "<path fill=\"none\" stroke=\"#000000\" d=\"M913.1044,-88.4006C913.1044,-76.2949 913.1044,-60.2076 913.1044,-46.4674\"/>\n",
       "<polygon fill=\"#000000\" stroke=\"#000000\" points=\"916.6045,-46.072 913.1044,-36.072 909.6045,-46.0721 916.6045,-46.072\"/>\n",
       "<text text-anchor=\"middle\" x=\"934.5517\" y=\"-58.2\" font-family=\"Times,serif\" font-size=\"14.00\" fill=\"#000000\">&gt; 0.079</text>\n",
       "</g>\n",
       "<!-- rrrr -->\n",
       "<g id=\"node15\" class=\"node\">\n",
       "<title>rrrr</title>\n",
       "<ellipse fill=\"none\" stroke=\"#000000\" cx=\"1051.1044\" cy=\"-18\" rx=\"60.209\" ry=\"18\"/>\n",
       "<text text-anchor=\"middle\" x=\"1051.1044\" y=\"-13.8\" font-family=\"Times,serif\" font-size=\"14.00\" fill=\"#000000\">mala calidad</text>\n",
       "</g>\n",
       "<!-- rrr&#45;&gt;rrrr -->\n",
       "<g id=\"edge14\" class=\"edge\">\n",
       "<title>rrr&#45;&gt;rrrr</title>\n",
       "<path fill=\"none\" stroke=\"#000000\" d=\"M937.4584,-91.1288C959.5108,-76.9385 992.2258,-55.8871 1016.9,-40.0098\"/>\n",
       "<polygon fill=\"#000000\" stroke=\"#000000\" points=\"1019.0765,-42.7713 1025.592,-34.4167 1015.2886,-36.8847 1019.0765,-42.7713\"/>\n",
       "<text text-anchor=\"middle\" x=\"1015.5517\" y=\"-58.2\" font-family=\"Times,serif\" font-size=\"14.00\" fill=\"#000000\">&lt; 0.079</text>\n",
       "</g>\n",
       "</g>\n",
       "</svg>\n"
      ]
     },
     "execution_count": 39,
     "metadata": {},
     "output_type": "execute_result"
    }
   ],
   "source": [
    "(defn generateLeaf [node leaf-name]\n",
    "    (str leaf-name \"[label=\\\"\" (:predict node) \"\\\"]\"))\n",
    "\n",
    "(defn generateTree [node root-name]\n",
    "    (let [left-node (:left node)\n",
    "          left-name (str root-name \"l\")\n",
    "          right-node (:right node)\n",
    "          right-name (str root-name \"r\")]\n",
    "        (clojure.string/join \";\" [\n",
    "            (str root-name \"[label=\\\"\" (:feature node) \"\\\"]\")\n",
    "            (str root-name \"->\" left-name \"[label=\\\"> \" (:threshold node) \"\\\"]\")\n",
    "            (str root-name \"->\" right-name \"[label=\\\"< \" (:threshold node) \"\\\"]\")\n",
    "            (if (nil? (:feature left-node))\n",
    "                (generateLeaf left-node left-name)\n",
    "                (generateTree left-node left-name))\n",
    "            (if (nil? (:feature right-node))\n",
    "                (generateLeaf right-node right-name)\n",
    "                (generateTree right-node right-name))])))\n",
    "\n",
    "\n",
    "(def nombre (generateTree tree \"r\"))\n",
    "\n",
    "(display/html (:body (client/get (str \"https://quickchart.io/graphviz?graph=digraph{\" nombre \"}\"))))"
   ]
  },
  {
   "cell_type": "code",
   "execution_count": null,
   "metadata": {},
   "outputs": [],
   "source": []
  }
 ],
 "metadata": {
  "kernelspec": {
   "display_name": "Clojure (clojupyter=0.3.2=1)",
   "language": "clojure",
   "name": "conda-clojupyter"
  },
  "language_info": {
   "file_extension": ".clj",
   "mimetype": "text/x-clojure",
   "name": "clojure",
   "version": "1.10.1"
  }
 },
 "nbformat": 4,
 "nbformat_minor": 4
}
