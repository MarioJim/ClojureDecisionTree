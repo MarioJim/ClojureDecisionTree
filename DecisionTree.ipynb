{
 "cells": [
  {
   "cell_type": "markdown",
   "metadata": {},
   "source": [
    "# Clojure Decision Tree\n",
    "- A01173359 - Mario Emilio Jiménez Vizcaíno\n",
    "- A01656159 - Juan Sebastián Rodríguez Galarza\n",
    "- A01656257 - Kevin Torres Martínez\n",
    "\n",
    "Queremos predecir la calidad del vino rojo en base a 6 variables independientes no lineales, por lo que el árbol de decisión es el algoritmo más indicado para esta situación porque nuestro conjunto de datos de entrada está etiquetado, además de que la predicción dependerá de varias variables continuas.\n",
    "\n",
    "Usamos el dataset [Red Wine Quality en Kaggle](https://www.kaggle.com/uciml/red-wine-quality-cortez-et-al-2009)"
   ]
  },
  {
   "cell_type": "markdown",
   "metadata": {},
   "source": [
    "# Columnas"
   ]
  },
  {
   "cell_type": "code",
   "execution_count": 8,
   "metadata": {},
   "outputs": [
    {
     "data": {
      "text/plain": [
       "nil"
      ]
     },
     "execution_count": 8,
     "metadata": {},
     "output_type": "execute_result"
    }
   ],
   "source": [
    "(require '[cemerick.pomegranate :refer [add-dependencies]])\n",
    "(add-dependencies :coordinates '[[org.clojure/data.csv \"0.1.2\"]])\n",
    "(require '[clojure.data.csv :as csv])\n",
    "(require '[clojure.spec.alpha :as s])"
   ]
  },
  {
   "cell_type": "code",
   "execution_count": 9,
   "metadata": {
    "scrolled": true
   },
   "outputs": [
    {
     "data": {
      "text/plain": [
       "#'decision-tree.core/wineQuality"
      ]
     },
     "execution_count": 9,
     "metadata": {},
     "output_type": "execute_result"
    }
   ],
   "source": [
    "(def wineQuality(with-open [in-file (clojure.java.io/reader \"winequality-red.csv\")] \n",
    "    (doall (csv/read-csv in-file))))"
   ]
  },
  {
   "cell_type": "code",
   "execution_count": 10,
   "metadata": {},
   "outputs": [
    {
     "data": {
      "text/plain": [
       "decision_tree.core.Wine"
      ]
     },
     "execution_count": 10,
     "metadata": {},
     "output_type": "execute_result"
    }
   ],
   "source": [
    "(defrecord Wine [fixed_acidity volatile_acidity citrid_acid chlorides sulphates alcohol quality])"
   ]
  },
  {
   "cell_type": "code",
   "execution_count": 19,
   "metadata": {},
   "outputs": [
    {
     "data": {
      "text/plain": [
       "#'decision-tree.core/vectorToWine"
      ]
     },
     "execution_count": 19,
     "metadata": {},
     "output_type": "execute_result"
    }
   ],
   "source": [
    "(defn vectorToWine [v]\n",
    "    (Wine.\n",
    "        (Double. (nth v 0))\n",
    "        (Double. (nth v 1))\n",
    "        (Double. (nth v 2))\n",
    "        (Double. (nth v 4))\n",
    "        (Double. (nth v 9))\n",
    "        (Double. (nth v 10))\n",
    "        (if (< 5.5 (Integer. (nth v 11))) \"buena calidad\" \"mala calidad\")))"
   ]
  },
  {
   "cell_type": "code",
   "execution_count": 20,
   "metadata": {},
   "outputs": [
    {
     "data": {
      "text/plain": [
       "(#decision_tree.core.Wine{:fixed_acidity 7.4, :volatile_acidity 0.7, :citrid_acid 0.0, :chlorides 0.076, :sulphates 0.56, :alcohol 9.4, :quality \"mala calidad\"} #decision_tree.core.Wine{:fixed_acidity 7.8, :volatile_acidity 0.88, :citrid_acid 0.0, :chlorides 0.098, :sulphates 0.68, :alcohol 9.8, :quality \"mala calidad\"} #decision_tree.core.Wine{:fixed_acidity 7.8, :volatile_acidity 0.76, :citrid_acid 0.04, :chlorides 0.092, :sulphates 0.65, :alcohol 9.8, :quality \"mala calidad\"} #decision_tree.core.Wine{:fixed_acidity 11.2, :volatile_acidity 0.28, :citrid_acid 0.56, :chlorides 0.075, :sulphates 0.58, :alcohol 9.8, :quality \"buena calidad\"} #decision_tree.core.Wine{:fixed_acidity 7.4, :volatile_acidity 0.7, :citrid_acid 0.0, :chlorides 0.076, :sulphates 0.56, :alcohol 9.4, :quality \"mala calidad\"})"
      ]
     },
     "execution_count": 20,
     "metadata": {},
     "output_type": "execute_result"
    }
   ],
   "source": [
    "(def data (map #(vectorToWine %) (rest wineQuality)))\n",
    "(take 5 data)"
   ]
  },
  {
   "cell_type": "markdown",
   "metadata": {},
   "source": [
    "# División del dataset\n",
    "\n",
    "En total tenemos 1,599 datos. De los cuales los primeros 1,279 (80% del total) se utilizarán para entrenar el modelo de machine learning. Los 320 (20% del total) datos restantes se utilizarán realizar las pruebas."
   ]
  },
  {
   "cell_type": "code",
   "execution_count": 21,
   "metadata": {},
   "outputs": [
    {
     "data": {
      "text/plain": [
       "(#decision_tree.core.Wine{:fixed_acidity 7.4, :volatile_acidity 0.7, :citrid_acid 0.0, :chlorides 0.076, :sulphates 0.56, :alcohol 9.4, :quality \"mala calidad\"} #decision_tree.core.Wine{:fixed_acidity 7.8, :volatile_acidity 0.88, :citrid_acid 0.0, :chlorides 0.098, :sulphates 0.68, :alcohol 9.8, :quality \"mala calidad\"} #decision_tree.core.Wine{:fixed_acidity 7.8, :volatile_acidity 0.76, :citrid_acid 0.04, :chlorides 0.092, :sulphates 0.65, :alcohol 9.8, :quality \"mala calidad\"} #decision_tree.core.Wine{:fixed_acidity 11.2, :volatile_acidity 0.28, :citrid_acid 0.56, :chlorides 0.075, :sulphates 0.58, :alcohol 9.8, :quality \"buena calidad\"} #decision_tree.core.Wine{:fixed_acidity 7.4, :volatile_acidity 0.7, :citrid_acid 0.0, :chlorides 0.076, :sulphates 0.56, :alcohol 9.4, :quality \"mala calidad\"})"
      ]
     },
     "execution_count": 21,
     "metadata": {},
     "output_type": "execute_result"
    }
   ],
   "source": [
    "(def trainingData (take 1279 data))\n",
    "(take 5 trainingData)"
   ]
  },
  {
   "cell_type": "code",
   "execution_count": 22,
   "metadata": {},
   "outputs": [
    {
     "data": {
      "text/plain": [
       "(#decision_tree.core.Wine{:fixed_acidity 9.8, :volatile_acidity 0.3, :citrid_acid 0.39, :chlorides 0.062, :sulphates 0.57, :alcohol 11.5, :quality \"buena calidad\"} #decision_tree.core.Wine{:fixed_acidity 7.1, :volatile_acidity 0.46, :citrid_acid 0.2, :chlorides 0.077, :sulphates 0.64, :alcohol 10.4, :quality \"buena calidad\"} #decision_tree.core.Wine{:fixed_acidity 7.1, :volatile_acidity 0.46, :citrid_acid 0.2, :chlorides 0.077, :sulphates 0.64, :alcohol 10.4, :quality \"buena calidad\"} #decision_tree.core.Wine{:fixed_acidity 7.9, :volatile_acidity 0.765, :citrid_acid 0.0, :chlorides 0.084, :sulphates 0.68, :alcohol 10.9, :quality \"buena calidad\"} #decision_tree.core.Wine{:fixed_acidity 8.7, :volatile_acidity 0.63, :citrid_acid 0.28, :chlorides 0.096, :sulphates 0.63, :alcohol 10.2, :quality \"buena calidad\"})"
      ]
     },
     "execution_count": 22,
     "metadata": {},
     "output_type": "execute_result"
    }
   ],
   "source": [
    "(def testingData (drop 1279 data))\n",
    "(take 5 testingData)"
   ]
  },
  {
   "cell_type": "code",
   "execution_count": 23,
   "metadata": {},
   "outputs": [
    {
     "data": {
      "text/plain": [
       "#'decision-tree.core/predict"
      ]
     },
     "execution_count": 23,
     "metadata": {},
     "output_type": "execute_result"
    }
   ],
   "source": [
    "(defn- update-key\n",
    "  [from-key to-key map]\n",
    "  {:pre [(s/valid? keyword? from-key)\n",
    "         (s/valid? keyword? to-key)\n",
    "         (s/valid? map? map)]\n",
    "   :post [(s/valid? map? %)]}\n",
    "  (-> map\n",
    "      (assoc to-key (from-key map))\n",
    "      (dissoc from-key)))\n",
    "\n",
    "(defn- update-value\n",
    "  [map key updated-value]\n",
    "  {:pre [(s/valid? map? map)\n",
    "         (s/valid? keyword? key)]\n",
    "   :post [(s/valid? map? %)]}\n",
    "  (update map key (fn [_] (identity updated-value))))\n",
    "\n",
    "\n",
    "(s/def ::objective-variable string?)\n",
    "(s/def ::objective-variable-vector (s/coll-of ::objective-variable))\n",
    "\n",
    "(defn- gini-impurity\n",
    "  [y]\n",
    "  {:pre [(s/valid? ::objective-variable-vector y)]\n",
    "   :post [(s/valid? (s/and number? #(<= 0 % 1)) %)]}\n",
    "  (let [number-of-each-data (->> (group-by identity y)\n",
    "                                 (map (comp count val)))\n",
    "        sum-of-number-of-data (apply + number-of-each-data)]\n",
    "    (->> number-of-each-data\n",
    "         (map #(/ % sum-of-number-of-data))\n",
    "         (map #(Math/pow % 2))\n",
    "         (apply +)\n",
    "         (- 1))))\n",
    "\n",
    "(defn information-gain [node-data leaf1-data leaf2-data]\n",
    "  (let [node-number-of-data (count node-data)\n",
    "        node-gini-impurity (gini-impurity (map :Classes node-data))\n",
    "        leaf1-number-of-data (count leaf1-data)\n",
    "        leaf1-gini-impurity (gini-impurity (map :Classes leaf1-data))\n",
    "        leaf2-number-of-data (count leaf2-data)\n",
    "        leaf2-gini-impurity (gini-impurity (map :Classes leaf2-data))]\n",
    "    (- node-gini-impurity\n",
    "       (+ (* (/ leaf1-number-of-data node-number-of-data) leaf1-gini-impurity)\n",
    "          (* (/ leaf2-number-of-data node-number-of-data) leaf2-gini-impurity)))))\n",
    "\n",
    "\n",
    "(s/def ::feature (s/or :nil nil?\n",
    "                       :keyword keyword?))\n",
    "(s/def ::threshold (s/or :nil nil?\n",
    "                         :number number?))\n",
    "(s/def ::data (s/coll-of map?))\n",
    "(s/def ::left (s/or :nil nil?\n",
    "                    :map? ::node))\n",
    "(s/def ::right (s/or :nil nil?\n",
    "                     :map? ::node))\n",
    "(s/def ::node  (s/keys :req-un [::feature ::threshold ::data ::left ::right]))\n",
    "\n",
    "(defn- count-number-of-kinds-of-objective-variables\n",
    "  [data key-of-objective-variable]\n",
    "  {:pre [(s/valid? ::data data)\n",
    "         (s/valid? keyword? key-of-objective-variable)]\n",
    "   :post [(s/valid? int? %)]}\n",
    "  (->> data\n",
    "       (map key-of-objective-variable)\n",
    "       set\n",
    "       count))\n",
    "\n",
    "(defn- get-explanatory-variables-from\n",
    "  [data key-of-objective-variable]\n",
    "  {:pre [(s/valid? ::data data)\n",
    "         (s/valid? keyword? key-of-objective-variable)]\n",
    "   :post [s/valid? (s/coll-of keyword?) %]}\n",
    "  (->> (first data)\n",
    "       keys\n",
    "       (filter (partial not= key-of-objective-variable))))\n",
    "\n",
    "\n",
    "(defn- get-threshold-point-candidates\n",
    "  [data]\n",
    "  {:pre [(s/valid? ::data data)]\n",
    "   :post [(s/valid? (s/coll-of map?) %)]}\n",
    "  (let [features (get-explanatory-variables-from data :Classes)\n",
    "        get-threshold-point-candidates-one-feature (fn [data feature] (map #(select-keys %1 [feature]) data))]\n",
    "    (->> (map (partial get-threshold-point-candidates-one-feature data) features)\n",
    "         flatten)))\n",
    "\n",
    "(defn- create-node-from-data\n",
    "  [data]\n",
    "  {:pre [(s/valid? ::data data)]\n",
    "   :post [s/valid? ::node %]}\n",
    "  {:feature nil :threshold nil :data data :right nil :left nil})\n",
    "\n",
    "(defn- split-one-node\n",
    "  [node threshold key]\n",
    "  {:pre [(s/valid? ::node node)\n",
    "         (s/valid? ::threshold threshold)\n",
    "         (s/valid? ::feature key)]\n",
    "   :post [(s/valid? ::node %)]}\n",
    "  (let [left-data (filter #(> (key %1) threshold) (:data node))\n",
    "        left-node (create-node-from-data left-data)\n",
    "        right-data (filter #(<= (key %1) threshold) (:data node))\n",
    "        right-node (create-node-from-data right-data)]\n",
    "    (-> node\n",
    "        (update-value :feature key)\n",
    "        (update-value :threshold threshold)\n",
    "        (update-value :left left-node)\n",
    "        (update-value :right right-node))))\n",
    "\n",
    "(defn- calculate-information-gains\n",
    "  [node]\n",
    "  {:pre  [(s/valid? ::node node)]\n",
    "   :post [(s/valid? (s/coll-of map?) %)]}\n",
    "  (->> (get-threshold-point-candidates (:data node))\n",
    "       (map #(split-one-node node ((comp first vals) %1) ((comp first keys) %1)))\n",
    "       (map #(hash-map\n",
    "               :information-gain (information-gain (:data %) (:data (:left %)) (:data (:right %)))\n",
    "               :threshold (:threshold %)\n",
    "               :feature (:feature %)))))\n",
    "\n",
    "\n",
    "\n",
    "(defn- stop-split?\n",
    "  [node max-depth]\n",
    "  (or (= max-depth 0)\n",
    "      (<= (count (:data node)) 1)\n",
    "      (<= (count-number-of-kinds-of-objective-variables (:data node) :Classes) 1)))\n",
    "\n",
    "(defn- get-maximum-information-gain-splitter\n",
    "  [node]\n",
    "  (->> (calculate-information-gains node)\n",
    "       ;; max-key returns a last element if there are exact same values.\n",
    "       ;; So we added shuffle because we want this function returns a random element in exact same values.\n",
    "       shuffle\n",
    "       (apply max-key :information-gain)))\n",
    "\n",
    "(defn- get-most-popular-objective-variable-values\n",
    "  [data]\n",
    "  (->> data\n",
    "       (map :Classes)\n",
    "       (frequencies)\n",
    "       (apply max-key val)\n",
    "       key))\n",
    "\n",
    "(defn- split-node\n",
    "  [node threshold key max-depth]\n",
    "  {:pre [(s/valid? ::node node)\n",
    "         (s/valid? ::threshold threshold)\n",
    "         (s/valid? ::feature key)]\n",
    "   :post [(s/valid? ::node %)]}\n",
    "  (if (stop-split? node max-depth)\n",
    "    (assoc node :predict (get-most-popular-objective-variable-values (:data node)))\n",
    "    (let [split (split-one-node node threshold key)\n",
    "          left-node (:left split)\n",
    "          right-node (:right split)\n",
    "          left-splitter (get-maximum-information-gain-splitter left-node)\n",
    "          right-splitter (get-maximum-information-gain-splitter right-node)]\n",
    "      (-> node\n",
    "          (update-value :feature key)\n",
    "          (update-value :threshold threshold)\n",
    "          (update-value :left (split-node left-node (:threshold left-splitter) (:feature left-splitter) (dec max-depth)))\n",
    "          (update-value :right (split-node right-node (:threshold right-splitter) (:feature right-splitter) (dec max-depth)))))))\n",
    "\n",
    "(defn make-decision-tree\n",
    "  [train-data max-depth key-of-objective-variable]\n",
    "  {:pre [(s/valid? ::data train-data)]\n",
    "   :post [(s/valid? ::node %)]}\n",
    "  (let [train-data (map (partial update-key key-of-objective-variable :Classes) train-data)\n",
    "        node (create-node-from-data train-data)\n",
    "        splitter (get-maximum-information-gain-splitter node)]\n",
    "    (split-node node (:threshold splitter) (:feature splitter) max-depth)))\n",
    "\n",
    "(defn predict\n",
    "  [tree data]\n",
    "  (cond (not (nil? (:predict tree)))\n",
    "        (:predict tree)\n",
    "        (> ((:feature tree) data) (:threshold tree)) (predict (:left tree) data)\n",
    "        :else (predict (:right tree) data)))"
   ]
  },
  {
   "cell_type": "code",
   "execution_count": 25,
   "metadata": {},
   "outputs": [
    {
     "data": {
      "text/plain": [
       "#'decision-tree.core/tree"
      ]
     },
     "execution_count": 25,
     "metadata": {},
     "output_type": "execute_result"
    }
   ],
   "source": [
    "(def tree (make-decision-tree trainingData 3 :quality))"
   ]
  },
  {
   "cell_type": "code",
   "execution_count": 26,
   "metadata": {},
   "outputs": [
    {
     "data": {
      "text/plain": [
       "\"buena calidad\""
      ]
     },
     "execution_count": 26,
     "metadata": {},
     "output_type": "execute_result"
    }
   ],
   "source": [
    "(predict tree (first testingData))"
   ]
  },
  {
   "cell_type": "code",
   "execution_count": 27,
   "metadata": {},
   "outputs": [
    {
     "data": {
      "text/plain": [
       "#decision_tree.core.Wine{:fixed_acidity 9.8, :volatile_acidity 0.3, :citrid_acid 0.39, :chlorides 0.062, :sulphates 0.57, :alcohol 11.5, :quality \"buena calidad\"}"
      ]
     },
     "execution_count": 27,
     "metadata": {},
     "output_type": "execute_result"
    }
   ],
   "source": [
    "(first testingData)"
   ]
  },
  {
   "cell_type": "code",
   "execution_count": 41,
   "metadata": {},
   "outputs": [
    {
     "data": {
      "text/plain": [
       "#'decision-tree.core/test_TestingData"
      ]
     },
     "execution_count": 41,
     "metadata": {},
     "output_type": "execute_result"
    }
   ],
   "source": [
    "(defn test_TestingData [] \n",
    "    (let [predictData (map #(predict tree %) testingData) realData (map #(:quality %) testingData)]\n",
    "        (loop [x predictData y  realData equals 0]\n",
    "            (if (empty? x) \n",
    "                equals \n",
    "                (recur (rest x) (rest y) (if (= (first x) (first y)) (inc equals) equals)))\n",
    "            )\n",
    "        )\n",
    ")"
   ]
  },
  {
   "cell_type": "code",
   "execution_count": 42,
   "metadata": {},
   "outputs": [
    {
     "data": {
      "text/plain": [
       "228"
      ]
     },
     "execution_count": 42,
     "metadata": {},
     "output_type": "execute_result"
    }
   ],
   "source": [
    "(test_TestingData)"
   ]
  },
  {
   "cell_type": "code",
   "execution_count": null,
   "metadata": {},
   "outputs": [],
   "source": []
  }
 ],
 "metadata": {
  "kernelspec": {
   "display_name": "Clojure (clojupyter=0.3.2=1)",
   "language": "clojure",
   "name": "conda-clojupyter"
  },
  "language_info": {
   "file_extension": ".clj",
   "mimetype": "text/x-clojure",
   "name": "clojure",
   "version": "1.10.1"
  }
 },
 "nbformat": 4,
 "nbformat_minor": 4
}
