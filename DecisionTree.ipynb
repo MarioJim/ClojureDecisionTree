{
 "cells": [
  {
   "cell_type": "markdown",
   "metadata": {},
   "source": [
    "# Clojure Decision Tree\n",
    "- A01173359 - Mario Emilio Jiménez Vizcaíno\n",
    "- A01656159 - Juan Sebastián Rodríguez Galarza\n",
    "- A01656257 - Kevin Torres Martínez\n",
    "\n",
    "Queremos predecir la calidad del vino rojo en base a 6 variables independientes no lineales, por lo que el árbol de decisión es el algoritmo más indicado para esta situación porque nuestro conjunto de datos de entrada está etiquetado, además de que la predicción dependerá de varias variables continuas.\n",
    "\n",
    "Usamos el dataset [Red Wine Quality en Kaggle](https://www.kaggle.com/uciml/red-wine-quality-cortez-et-al-2009)"
   ]
  },
  {
   "cell_type": "markdown",
   "metadata": {},
   "source": [
    "# Columnas"
   ]
  },
  {
   "cell_type": "code",
   "execution_count": 27,
   "metadata": {},
   "outputs": [
    {
     "data": {
      "text/plain": [
       "nil"
      ]
     },
     "execution_count": 27,
     "metadata": {},
     "output_type": "execute_result"
    }
   ],
   "source": [
    "(require '[cemerick.pomegranate :refer [add-dependencies]])\n",
    "(add-dependencies :coordinates '[[org.clojure/data.csv \"0.1.2\"]])\n",
    "(require '[clojure.data.csv :as csv])"
   ]
  },
  {
   "cell_type": "code",
   "execution_count": 3,
   "metadata": {
    "scrolled": true
   },
   "outputs": [
    {
     "data": {
      "text/plain": [
       "#'user/wineQuality"
      ]
     },
     "execution_count": 3,
     "metadata": {},
     "output_type": "execute_result"
    }
   ],
   "source": [
    "(def wineQuality(with-open [in-file (clojure.java.io/reader \"winequality-red.csv\")] \n",
    "    (doall (csv/read-csv in-file))))"
   ]
  },
  {
   "cell_type": "code",
   "execution_count": 4,
   "metadata": {},
   "outputs": [
    {
     "data": {
      "text/plain": [
       "user.Wine"
      ]
     },
     "execution_count": 4,
     "metadata": {},
     "output_type": "execute_result"
    }
   ],
   "source": [
    "(defrecord Wine [fixed_acidity volatile_acidity citrid_acid chlorides sulphates alcohol quality])"
   ]
  },
  {
   "cell_type": "code",
   "execution_count": 5,
   "metadata": {},
   "outputs": [
    {
     "data": {
      "text/plain": [
       "#'user/vectorToWine"
      ]
     },
     "execution_count": 5,
     "metadata": {},
     "output_type": "execute_result"
    }
   ],
   "source": [
    "(defn vectorToWine [v]\n",
    "    (Wine.\n",
    "        (Double. (nth v 0))\n",
    "        (Double. (nth v 1))\n",
    "        (Double. (nth v 2))\n",
    "        (Double. (nth v 4))\n",
    "        (Double. (nth v 9))\n",
    "        (Double. (nth v 10))\n",
    "        (if (< 5.5 (Integer. (nth v 11))) \"buena calidad\" \"mala calidad\")))"
   ]
  },
  {
   "cell_type": "code",
   "execution_count": 6,
   "metadata": {},
   "outputs": [
    {
     "data": {
      "text/plain": [
       "(#user.Wine{:fixed_acidity 7.4, :volatile_acidity 0.7, :citrid_acid 0.0, :chlorides 0.076, :sulphates 0.56, :alcohol 9.4, :quality \"mala calidad\"} #user.Wine{:fixed_acidity 7.8, :volatile_acidity 0.88, :citrid_acid 0.0, :chlorides 0.098, :sulphates 0.68, :alcohol 9.8, :quality \"mala calidad\"} #user.Wine{:fixed_acidity 7.8, :volatile_acidity 0.76, :citrid_acid 0.04, :chlorides 0.092, :sulphates 0.65, :alcohol 9.8, :quality \"mala calidad\"} #user.Wine{:fixed_acidity 11.2, :volatile_acidity 0.28, :citrid_acid 0.56, :chlorides 0.075, :sulphates 0.58, :alcohol 9.8, :quality \"buena calidad\"} #user.Wine{:fixed_acidity 7.4, :volatile_acidity 0.7, :citrid_acid 0.0, :chlorides 0.076, :sulphates 0.56, :alcohol 9.4, :quality \"mala calidad\"})"
      ]
     },
     "execution_count": 6,
     "metadata": {},
     "output_type": "execute_result"
    }
   ],
   "source": [
    "(def data (map #(vectorToWine %) (rest wineQuality)))\n",
    "(take 5 data)"
   ]
  },
  {
   "cell_type": "markdown",
   "metadata": {},
   "source": [
    "# División del dataset\n",
    "\n",
    "En total tenemos 1,599 datos. De los cuales los primeros 1,279 (80% del total) se utilizarán para entrenar el modelo de machine learning. Los 320 (20% del total) datos restantes se utilizarán realizar las pruebas."
   ]
  },
  {
   "cell_type": "code",
   "execution_count": 7,
   "metadata": {},
   "outputs": [
    {
     "data": {
      "text/plain": [
       "(#user.Wine{:fixed_acidity 7.4, :volatile_acidity 0.7, :citrid_acid 0.0, :chlorides 0.076, :sulphates 0.56, :alcohol 9.4, :quality \"mala calidad\"} #user.Wine{:fixed_acidity 7.8, :volatile_acidity 0.88, :citrid_acid 0.0, :chlorides 0.098, :sulphates 0.68, :alcohol 9.8, :quality \"mala calidad\"} #user.Wine{:fixed_acidity 7.8, :volatile_acidity 0.76, :citrid_acid 0.04, :chlorides 0.092, :sulphates 0.65, :alcohol 9.8, :quality \"mala calidad\"} #user.Wine{:fixed_acidity 11.2, :volatile_acidity 0.28, :citrid_acid 0.56, :chlorides 0.075, :sulphates 0.58, :alcohol 9.8, :quality \"buena calidad\"} #user.Wine{:fixed_acidity 7.4, :volatile_acidity 0.7, :citrid_acid 0.0, :chlorides 0.076, :sulphates 0.56, :alcohol 9.4, :quality \"mala calidad\"})"
      ]
     },
     "execution_count": 7,
     "metadata": {},
     "output_type": "execute_result"
    }
   ],
   "source": [
    "(def trainingData (take 1279 data))\n",
    "(take 5 trainingData)"
   ]
  },
  {
   "cell_type": "code",
   "execution_count": 8,
   "metadata": {},
   "outputs": [
    {
     "data": {
      "text/plain": [
       "(#user.Wine{:fixed_acidity 9.8, :volatile_acidity 0.3, :citrid_acid 0.39, :chlorides 0.062, :sulphates 0.57, :alcohol 11.5, :quality \"buena calidad\"} #user.Wine{:fixed_acidity 7.1, :volatile_acidity 0.46, :citrid_acid 0.2, :chlorides 0.077, :sulphates 0.64, :alcohol 10.4, :quality \"buena calidad\"} #user.Wine{:fixed_acidity 7.1, :volatile_acidity 0.46, :citrid_acid 0.2, :chlorides 0.077, :sulphates 0.64, :alcohol 10.4, :quality \"buena calidad\"} #user.Wine{:fixed_acidity 7.9, :volatile_acidity 0.765, :citrid_acid 0.0, :chlorides 0.084, :sulphates 0.68, :alcohol 10.9, :quality \"buena calidad\"} #user.Wine{:fixed_acidity 8.7, :volatile_acidity 0.63, :citrid_acid 0.28, :chlorides 0.096, :sulphates 0.63, :alcohol 10.2, :quality \"buena calidad\"})"
      ]
     },
     "execution_count": 8,
     "metadata": {},
     "output_type": "execute_result"
    }
   ],
   "source": [
    "(def testingData (drop 1279 data))\n",
    "(take 5 testingData)"
   ]
  },
  {
   "cell_type": "code",
   "execution_count": 28,
   "metadata": {},
   "outputs": [
    {
     "data": {
      "text/plain": [
       "#'user/predict"
      ]
     },
     "execution_count": 28,
     "metadata": {},
     "output_type": "execute_result"
    }
   ],
   "source": [
    "(defn update-key [from-key to-key map]\n",
    "  (-> map\n",
    "      (assoc to-key (from-key map))\n",
    "      (dissoc from-key)))\n",
    "\n",
    "(defn update-value [map key updated-value]\n",
    "  (update map key (fn [_] (identity updated-value))))\n",
    "\n",
    "(defn gini-impurity [y]\n",
    "  (let [number-of-each-data (->> (group-by identity y)\n",
    "                                 (map (comp count val)))\n",
    "        sum-of-number-of-data (apply + number-of-each-data)]\n",
    "    (->> number-of-each-data\n",
    "         (map #(/ % sum-of-number-of-data))\n",
    "         (map #(Math/pow % 2))\n",
    "         (apply +)\n",
    "         (- 1))))\n",
    "\n",
    "(defn information-gain [node-data leaf1-data leaf2-data]\n",
    "  (let [node-number-of-data (count node-data)\n",
    "        node-gini-impurity (gini-impurity (map :Classes node-data))\n",
    "        leaf1-number-of-data (count leaf1-data)\n",
    "        leaf1-gini-impurity (gini-impurity (map :Classes leaf1-data))\n",
    "        leaf2-number-of-data (count leaf2-data)\n",
    "        leaf2-gini-impurity (gini-impurity (map :Classes leaf2-data))]\n",
    "    (- node-gini-impurity\n",
    "       (+ (* (/ leaf1-number-of-data node-number-of-data) leaf1-gini-impurity)\n",
    "          (* (/ leaf2-number-of-data node-number-of-data) leaf2-gini-impurity)))))\n",
    "\n",
    "(defn count-number-of-kinds-of-objective-variables [data key-of-objective-variable]\n",
    "  (->> data\n",
    "       (map key-of-objective-variable)\n",
    "       set\n",
    "       count))\n",
    "\n",
    "(defn get-explanatory-variables-from [data key-of-objective-variable]\n",
    "  (->> (first data)\n",
    "       keys\n",
    "       (filter (partial not= key-of-objective-variable))))\n",
    " \n",
    "(defn get-threshold-point-candidates [data]\n",
    "  (let [features (get-explanatory-variables-from data :Classes)\n",
    "        get-threshold-point-candidates-one-feature (fn [data feature] (map #(select-keys %1 [feature]) data))]\n",
    "    (->> (map (partial get-threshold-point-candidates-one-feature data) features)\n",
    "         flatten)))\n",
    "\n",
    "(defn create-node-from-data [data]\n",
    "  {:feature nil :threshold nil :data data :right nil :left nil})\n",
    "\n",
    "(defn split-one-node [node threshold key]\n",
    "  (let [left-data (filter #(> (key %1) threshold) (:data node))\n",
    "        left-node (create-node-from-data left-data)\n",
    "        right-data (filter #(<= (key %1) threshold) (:data node))\n",
    "        right-node (create-node-from-data right-data)]\n",
    "    (-> node\n",
    "        (update-value :feature key)\n",
    "        (update-value :threshold threshold)\n",
    "        (update-value :left left-node)\n",
    "        (update-value :right right-node))))\n",
    "\n",
    "(defn calculate-information-gains [node]\n",
    "  (->> (get-threshold-point-candidates (:data node))\n",
    "       (map #(split-one-node node ((comp first vals) %1) ((comp first keys) %1)))\n",
    "       (map #(hash-map\n",
    "               :information-gain (information-gain (:data %) (:data (:left %)) (:data (:right %)))\n",
    "               :threshold (:threshold %)\n",
    "               :feature (:feature %)))))\n",
    "\n",
    "(defn stop-split? [node max-depth]\n",
    "  (or (= max-depth 0)\n",
    "      (<= (count (:data node)) 1)\n",
    "      (<= (count-number-of-kinds-of-objective-variables (:data node) :Classes) 1)))\n",
    "\n",
    "(defn get-maximum-information-gain-splitter [node]\n",
    "  (->> (calculate-information-gains node)\n",
    "       shuffle\n",
    "       (apply max-key :information-gain)))\n",
    "\n",
    "(defn get-most-popular-objective-variable-values [data]\n",
    "  (->> data\n",
    "       (map :Classes)\n",
    "       (frequencies)\n",
    "       (apply max-key val)\n",
    "       key))\n",
    "\n",
    "(defn split-node [node threshold key max-depth]\n",
    "  (if (stop-split? node max-depth)\n",
    "    (assoc node :predict (get-most-popular-objective-variable-values (:data node)))\n",
    "    (let [split (split-one-node node threshold key)\n",
    "          left-node (:left split)\n",
    "          right-node (:right split)\n",
    "          left-splitter (get-maximum-information-gain-splitter left-node)\n",
    "          right-splitter (get-maximum-information-gain-splitter right-node)]\n",
    "      (-> node\n",
    "          (update-value :feature key)\n",
    "          (update-value :threshold threshold)\n",
    "          (update-value :left (split-node left-node (:threshold left-splitter) (:feature left-splitter) (dec max-depth)))\n",
    "          (update-value :right (split-node right-node (:threshold right-splitter) (:feature right-splitter) (dec max-depth)))))))\n",
    "\n",
    "(defn make-decision-tree [train-data max-depth key-of-objective-variable]\n",
    "  (let [train-data (map (partial update-key key-of-objective-variable :Classes) train-data)\n",
    "        node (create-node-from-data train-data)\n",
    "        splitter (get-maximum-information-gain-splitter node)]\n",
    "    (split-node node (:threshold splitter) (:feature splitter) max-depth)))\n",
    "\n",
    "(defn predict [tree data]\n",
    "  (cond (not (nil? (:predict tree)))\n",
    "        (:predict tree)\n",
    "        (> ((:feature tree) data) (:threshold tree)) (predict (:left tree) data)\n",
    "        :else (predict (:right tree) data)))"
   ]
  },
  {
   "cell_type": "code",
   "execution_count": 29,
   "metadata": {},
   "outputs": [
    {
     "data": {
      "text/plain": [
       "#'user/tree"
      ]
     },
     "execution_count": 29,
     "metadata": {},
     "output_type": "execute_result"
    }
   ],
   "source": [
    "(def tree (make-decision-tree trainingData 3 :quality))"
   ]
  },
  {
   "cell_type": "code",
   "execution_count": 30,
   "metadata": {},
   "outputs": [
    {
     "data": {
      "text/plain": [
       "#'user/testCollection"
      ]
     },
     "execution_count": 30,
     "metadata": {},
     "output_type": "execute_result"
    }
   ],
   "source": [
    "(defn testCollection [tree testColl] \n",
    "    (let [predictData (pmap #(predict tree %) testColl)\n",
    "          realData (map #(:quality %) testColl)\n",
    "          correctPredictions (map (fn [p r] (if (= p r) 1 0)) predictData realData)]\n",
    "        (/ (reduce + correctPredictions) (count predictData))))"
   ]
  },
  {
   "cell_type": "code",
   "execution_count": 31,
   "metadata": {},
   "outputs": [
    {
     "data": {
      "text/plain": [
       "71.25"
      ]
     },
     "execution_count": 31,
     "metadata": {},
     "output_type": "execute_result"
    }
   ],
   "source": [
    "(* 100.0 (testCollection tree testingData))"
   ]
  },
  {
   "cell_type": "code",
   "execution_count": null,
   "metadata": {},
   "outputs": [],
   "source": []
  }
 ],
 "metadata": {
  "kernelspec": {
   "display_name": "Clojure (clojupyter=0.3.2=1)",
   "language": "clojure",
   "name": "conda-clojupyter"
  },
  "language_info": {
   "file_extension": ".clj",
   "mimetype": "text/x-clojure",
   "name": "clojure",
   "version": "1.10.1"
  }
 },
 "nbformat": 4,
 "nbformat_minor": 4
}
