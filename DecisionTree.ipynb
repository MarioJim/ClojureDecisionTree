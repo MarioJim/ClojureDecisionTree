{
 "cells": [
  {
   "cell_type": "markdown",
   "metadata": {},
   "source": [
    "# Árbol de decisión\n",
    "- A01173359 - Mario Emilio Jiménez Vizcaíno\n",
    "- A01656159 - Juan Sebastián Rodríguez Galarza\n",
    "- A01656257 - Kevin Torres Martínez\n",
    "\n",
    "Queremos predecir la calidad del vino rojo en base a 6 variables independientes no lineales, por lo que el árbol de decisión es el algoritmo más indicado para esta situación porque nuestro conjunto de datos de entrada está etiquetado, además de que la predicción dependerá de varias variables continuas.\n",
    "\n",
    "Usamos el dataset [Red Wine Quality en Kaggle](https://www.kaggle.com/uciml/red-wine-quality-cortez-et-al-2009)"
   ]
  },
  {
   "cell_type": "markdown",
   "metadata": {},
   "source": [
    "## Introducción\n",
    "\n",
    "Para este trabajo vamos a utilizar las dependencias de:\n",
    "- clojure.data.csv para leer el csv y obtener los datos para el árbol de decisión\n",
    "- decision-tree.core para el procesamiento y obtener un árbol de decisión. Implementado por Miyoshi Ryota\n",
    "- incanter para mostrar gráficas dentro del cuaderno Jupyter\n",
    "- clj-http para llamar a una API que nos permite generar un SVG con GraphViz\n",
    "- clojupyter.display para mostrar el SVG "
   ]
  },
  {
   "cell_type": "code",
   "execution_count": 1,
   "metadata": {},
   "outputs": [
    {
     "data": {
      "text/plain": [
       "nil"
      ]
     },
     "execution_count": 1,
     "metadata": {},
     "output_type": "execute_result"
    }
   ],
   "source": [
    "(require '[clojupyter.misc.helper :as helper])\n",
    "(helper/add-dependencies '[org.clojure/data.csv \"0.1.2\"])\n",
    "(require '[clojure.data.csv :as csv])\n",
    "(helper/add-dependencies '[mrcsce/decision-tree \"0.1.0\"])\n",
    "(require '[decision-tree.core :as dt])\n",
    "(helper/add-dependencies '[incanter \"1.9.3\"])\n",
    "(use '(incanter core stats charts io))\n",
    "(helper/add-dependencies '[clj-http \"3.11.0\"])\n",
    "(require '[clj-http.client :as client])\n",
    "(require '[clojupyter.display :as display])"
   ]
  },
  {
   "cell_type": "code",
   "execution_count": 2,
   "metadata": {
    "scrolled": true
   },
   "outputs": [
    {
     "data": {
      "text/plain": [
       "#'user/wineQuality"
      ]
     },
     "execution_count": 2,
     "metadata": {},
     "output_type": "execute_result"
    }
   ],
   "source": [
    "(def wineQuality\n",
    "    (with-open [in-file (clojure.java.io/reader \"winequality-red.csv\")] \n",
    "        (doall (csv/read-csv in-file))))"
   ]
  },
  {
   "cell_type": "code",
   "execution_count": 3,
   "metadata": {},
   "outputs": [
    {
     "data": {
      "text/plain": [
       "user.Wine"
      ]
     },
     "execution_count": 3,
     "metadata": {},
     "output_type": "execute_result"
    }
   ],
   "source": [
    "(defrecord Wine\n",
    "    [fixed_acidity volatile_acidity citrid_acid chlorides sulphates alcohol quality])"
   ]
  },
  {
   "cell_type": "code",
   "execution_count": 4,
   "metadata": {},
   "outputs": [
    {
     "data": {
      "text/plain": [
       "#'user/vectorToWine"
      ]
     },
     "execution_count": 4,
     "metadata": {},
     "output_type": "execute_result"
    }
   ],
   "source": [
    "(defn vectorToWine [v]\n",
    "    (Wine.\n",
    "        (Double. (nth v 0))\n",
    "        (Double. (nth v 1))\n",
    "        (Double. (nth v 2))\n",
    "        (Double. (nth v 4))\n",
    "        (Double. (nth v 9))\n",
    "        (Double. (nth v 10))\n",
    "        (if (< 5.5 (Integer. (nth v 11))) \"buena calidad\" \"mala calidad\")))"
   ]
  },
  {
   "cell_type": "code",
   "execution_count": 5,
   "metadata": {},
   "outputs": [
    {
     "data": {
      "text/plain": [
       "(#user.Wine{:fixed_acidity 7.4, :volatile_acidity 0.7, :citrid_acid 0.0, :chlorides 0.076, :sulphates 0.56, :alcohol 9.4, :quality \"mala calidad\"} #user.Wine{:fixed_acidity 7.8, :volatile_acidity 0.88, :citrid_acid 0.0, :chlorides 0.098, :sulphates 0.68, :alcohol 9.8, :quality \"mala calidad\"} #user.Wine{:fixed_acidity 7.8, :volatile_acidity 0.76, :citrid_acid 0.04, :chlorides 0.092, :sulphates 0.65, :alcohol 9.8, :quality \"mala calidad\"} #user.Wine{:fixed_acidity 11.2, :volatile_acidity 0.28, :citrid_acid 0.56, :chlorides 0.075, :sulphates 0.58, :alcohol 9.8, :quality \"buena calidad\"} #user.Wine{:fixed_acidity 7.4, :volatile_acidity 0.7, :citrid_acid 0.0, :chlorides 0.076, :sulphates 0.56, :alcohol 9.4, :quality \"mala calidad\"})"
      ]
     },
     "execution_count": 5,
     "metadata": {},
     "output_type": "execute_result"
    }
   ],
   "source": [
    "(def data (map #(vectorToWine %) (rest wineQuality)))\n",
    "(take 5 data)"
   ]
  },
  {
   "cell_type": "markdown",
   "metadata": {},
   "source": [
    "# División del dataset\n",
    "\n",
    "En total tenemos 1,599 datos. De los cuales los primeros 1,279 (80% del total) se utilizarán para entrenar el modelo de machine learning. Los 320 (20% del total) datos restantes se utilizarán realizar las pruebas."
   ]
  },
  {
   "cell_type": "code",
   "execution_count": 6,
   "metadata": {},
   "outputs": [
    {
     "data": {
      "text/plain": [
       "(#user.Wine{:fixed_acidity 7.4, :volatile_acidity 0.7, :citrid_acid 0.0, :chlorides 0.076, :sulphates 0.56, :alcohol 9.4, :quality \"mala calidad\"} #user.Wine{:fixed_acidity 7.8, :volatile_acidity 0.88, :citrid_acid 0.0, :chlorides 0.098, :sulphates 0.68, :alcohol 9.8, :quality \"mala calidad\"} #user.Wine{:fixed_acidity 7.8, :volatile_acidity 0.76, :citrid_acid 0.04, :chlorides 0.092, :sulphates 0.65, :alcohol 9.8, :quality \"mala calidad\"} #user.Wine{:fixed_acidity 11.2, :volatile_acidity 0.28, :citrid_acid 0.56, :chlorides 0.075, :sulphates 0.58, :alcohol 9.8, :quality \"buena calidad\"} #user.Wine{:fixed_acidity 7.4, :volatile_acidity 0.7, :citrid_acid 0.0, :chlorides 0.076, :sulphates 0.56, :alcohol 9.4, :quality \"mala calidad\"})"
      ]
     },
     "execution_count": 6,
     "metadata": {},
     "output_type": "execute_result"
    }
   ],
   "source": [
    "(def trainingData (take 1279 data))\n",
    "(take 5 trainingData)"
   ]
  },
  {
   "cell_type": "code",
   "execution_count": 7,
   "metadata": {},
   "outputs": [
    {
     "data": {
      "text/plain": [
       "(#user.Wine{:fixed_acidity 9.8, :volatile_acidity 0.3, :citrid_acid 0.39, :chlorides 0.062, :sulphates 0.57, :alcohol 11.5, :quality \"buena calidad\"} #user.Wine{:fixed_acidity 7.1, :volatile_acidity 0.46, :citrid_acid 0.2, :chlorides 0.077, :sulphates 0.64, :alcohol 10.4, :quality \"buena calidad\"} #user.Wine{:fixed_acidity 7.1, :volatile_acidity 0.46, :citrid_acid 0.2, :chlorides 0.077, :sulphates 0.64, :alcohol 10.4, :quality \"buena calidad\"} #user.Wine{:fixed_acidity 7.9, :volatile_acidity 0.765, :citrid_acid 0.0, :chlorides 0.084, :sulphates 0.68, :alcohol 10.9, :quality \"buena calidad\"} #user.Wine{:fixed_acidity 8.7, :volatile_acidity 0.63, :citrid_acid 0.28, :chlorides 0.096, :sulphates 0.63, :alcohol 10.2, :quality \"buena calidad\"})"
      ]
     },
     "execution_count": 7,
     "metadata": {},
     "output_type": "execute_result"
    }
   ],
   "source": [
    "(def testingData (drop 1279 data))\n",
    "(take 5 testingData)"
   ]
  },
  {
   "cell_type": "code",
   "execution_count": 8,
   "metadata": {},
   "outputs": [
    {
     "data": {
      "text/plain": [
       "#'user/tree"
      ]
     },
     "execution_count": 8,
     "metadata": {},
     "output_type": "execute_result"
    }
   ],
   "source": [
    "(def tree (dt/make-decision-tree trainingData 3 :quality))"
   ]
  },
  {
   "cell_type": "code",
   "execution_count": 9,
   "metadata": {},
   "outputs": [
    {
     "data": {
      "text/plain": [
       "\"Exactitud: 71.25%\""
      ]
     },
     "execution_count": 9,
     "metadata": {},
     "output_type": "execute_result"
    }
   ],
   "source": [
    "(defn testCollection [tree testColl] \n",
    "    (let [predictData (pmap #(dt/predict tree %) testColl)\n",
    "          realData (map #(:quality %) testColl)\n",
    "          correctPredictions (map (fn [p r] (if (= p r) 1 0)) predictData realData)]\n",
    "        (/ (reduce + correctPredictions) (count predictData))))\n",
    "\n",
    "(str\n",
    "    \"Exactitud: \"\n",
    "     (* 100.0 (testCollection tree testingData))\n",
    "     \"%\")"
   ]
  },
  {
   "cell_type": "code",
   "execution_count": 11,
   "metadata": {},
   "outputs": [
    {
     "data": {
      "text/html": [
       "<?xml version=\"1.0\" encoding=\"UTF-8\" standalone=\"no\"?>\n",
       "<!DOCTYPE svg PUBLIC \"-//W3C//DTD SVG 1.1//EN\"\n",
       " \"http://www.w3.org/Graphics/SVG/1.1/DTD/svg11.dtd\">\n",
       "<!-- Generated by graphviz version 2.40.1 (20161225.0304)\n",
       " -->\n",
       "<!-- Title: %0 Pages: 1 -->\n",
       "<svg width=\"646pt\" height=\"310pt\"\n",
       " viewBox=\"0.00 0.00 645.70 310.40\" xmlns=\"http://www.w3.org/2000/svg\" xmlns:xlink=\"http://www.w3.org/1999/xlink\">\n",
       "<g id=\"graph0\" class=\"graph\" transform=\"scale(1 1) rotate(0) translate(4 306.4)\">\n",
       "<title>%0</title>\n",
       "<polygon fill=\"#ffffff\" stroke=\"transparent\" points=\"-4,4 -4,-306.4 641.695,-306.4 641.695,4 -4,4\"/>\n",
       "<!-- r -->\n",
       "<g id=\"node1\" class=\"node\">\n",
       "<title>r</title>\n",
       "<ellipse fill=\"none\" stroke=\"#000000\" cx=\"324.3475\" cy=\"-284.4\" rx=\"42.2932\" ry=\"18\"/>\n",
       "<text text-anchor=\"middle\" x=\"324.3475\" y=\"-280.2\" font-family=\"Times,serif\" font-size=\"14.00\" fill=\"#000000\">:alcohol</text>\n",
       "</g>\n",
       "<!-- rl -->\n",
       "<g id=\"node2\" class=\"node\">\n",
       "<title>rl</title>\n",
       "<ellipse fill=\"none\" stroke=\"#000000\" cx=\"259.3475\" cy=\"-195.6\" rx=\"42.2932\" ry=\"18\"/>\n",
       "<text text-anchor=\"middle\" x=\"259.3475\" y=\"-191.4\" font-family=\"Times,serif\" font-size=\"14.00\" fill=\"#000000\">:alcohol</text>\n",
       "</g>\n",
       "<!-- r&#45;&gt;rl -->\n",
       "<g id=\"edge1\" class=\"edge\">\n",
       "<title>r&#45;&gt;rl</title>\n",
       "<path fill=\"none\" stroke=\"#000000\" d=\"M311.5056,-266.856C301.9179,-253.7577 288.6741,-235.6646 277.9312,-220.9883\"/>\n",
       "<polygon fill=\"#000000\" stroke=\"#000000\" points=\"280.6724,-218.8074 271.9416,-212.8054 275.0239,-222.942 280.6724,-218.8074\"/>\n",
       "<text text-anchor=\"middle\" x=\"314.5448\" y=\"-235.8\" font-family=\"Times,serif\" font-size=\"14.00\" fill=\"#000000\"> &gt; 9.8</text>\n",
       "</g>\n",
       "<!-- rr -->\n",
       "<g id=\"node3\" class=\"node\">\n",
       "<title>rr</title>\n",
       "<ellipse fill=\"none\" stroke=\"#000000\" cx=\"393.3475\" cy=\"-195.6\" rx=\"49.8156\" ry=\"18\"/>\n",
       "<text text-anchor=\"middle\" x=\"393.3475\" y=\"-191.4\" font-family=\"Times,serif\" font-size=\"14.00\" fill=\"#000000\">:sulphates</text>\n",
       "</g>\n",
       "<!-- r&#45;&gt;rr -->\n",
       "<g id=\"edge2\" class=\"edge\">\n",
       "<title>r&#45;&gt;rr</title>\n",
       "<path fill=\"none\" stroke=\"#000000\" d=\"M337.6514,-267.2785C347.7997,-254.2181 361.9429,-236.0163 373.4375,-221.2233\"/>\n",
       "<polygon fill=\"#000000\" stroke=\"#000000\" points=\"376.477,-223.0159 379.849,-212.972 370.9495,-218.7209 376.477,-223.0159\"/>\n",
       "<text text-anchor=\"middle\" x=\"381.5448\" y=\"-235.8\" font-family=\"Times,serif\" font-size=\"14.00\" fill=\"#000000\"> &lt; 9.8</text>\n",
       "</g>\n",
       "<!-- rll -->\n",
       "<g id=\"node4\" class=\"node\">\n",
       "<title>rll</title>\n",
       "<ellipse fill=\"none\" stroke=\"#000000\" cx=\"113.3475\" cy=\"-106.8\" rx=\"73.5907\" ry=\"18\"/>\n",
       "<text text-anchor=\"middle\" x=\"113.3475\" y=\"-102.6\" font-family=\"Times,serif\" font-size=\"14.00\" fill=\"#000000\">:volatile_acidity</text>\n",
       "</g>\n",
       "<!-- rl&#45;&gt;rll -->\n",
       "<g id=\"edge3\" class=\"edge\">\n",
       "<title>rl&#45;&gt;rll</title>\n",
       "<path fill=\"none\" stroke=\"#000000\" d=\"M234.9104,-180.7369C211.572,-166.542 176.1139,-144.9757 149.5059,-128.7922\"/>\n",
       "<polygon fill=\"#000000\" stroke=\"#000000\" points=\"151.2145,-125.7349 140.8519,-123.5287 147.5769,-131.7156 151.2145,-125.7349\"/>\n",
       "<text text-anchor=\"middle\" x=\"220.0448\" y=\"-147\" font-family=\"Times,serif\" font-size=\"14.00\" fill=\"#000000\"> &gt; 11.2</text>\n",
       "</g>\n",
       "<!-- rlr -->\n",
       "<g id=\"node5\" class=\"node\">\n",
       "<title>rlr</title>\n",
       "<ellipse fill=\"none\" stroke=\"#000000\" cx=\"259.3475\" cy=\"-106.8\" rx=\"49.8156\" ry=\"18\"/>\n",
       "<text text-anchor=\"middle\" x=\"259.3475\" y=\"-102.6\" font-family=\"Times,serif\" font-size=\"14.00\" fill=\"#000000\">:sulphates</text>\n",
       "</g>\n",
       "<!-- rl&#45;&gt;rlr -->\n",
       "<g id=\"edge4\" class=\"edge\">\n",
       "<title>rl&#45;&gt;rlr</title>\n",
       "<path fill=\"none\" stroke=\"#000000\" d=\"M259.3475,-177.2006C259.3475,-165.0949 259.3475,-149.0076 259.3475,-135.2674\"/>\n",
       "<polygon fill=\"#000000\" stroke=\"#000000\" points=\"262.8476,-134.872 259.3475,-124.872 255.8476,-134.8721 262.8476,-134.872\"/>\n",
       "<text text-anchor=\"middle\" x=\"279.0448\" y=\"-147\" font-family=\"Times,serif\" font-size=\"14.00\" fill=\"#000000\"> &lt; 11.2</text>\n",
       "</g>\n",
       "<!-- rrl -->\n",
       "<g id=\"node10\" class=\"node\">\n",
       "<title>rrl</title>\n",
       "<ellipse fill=\"none\" stroke=\"#000000\" cx=\"393.3475\" cy=\"-106.8\" rx=\"64.8447\" ry=\"18\"/>\n",
       "<text text-anchor=\"middle\" x=\"393.3475\" y=\"-102.6\" font-family=\"Times,serif\" font-size=\"14.00\" fill=\"#000000\">:fixed_acidity</text>\n",
       "</g>\n",
       "<!-- rr&#45;&gt;rrl -->\n",
       "<g id=\"edge9\" class=\"edge\">\n",
       "<title>rr&#45;&gt;rrl</title>\n",
       "<path fill=\"none\" stroke=\"#000000\" d=\"M393.3475,-177.2006C393.3475,-165.0949 393.3475,-149.0076 393.3475,-135.2674\"/>\n",
       "<polygon fill=\"#000000\" stroke=\"#000000\" points=\"396.8476,-134.872 393.3475,-124.872 389.8476,-134.8721 396.8476,-134.872\"/>\n",
       "<text text-anchor=\"middle\" x=\"413.0448\" y=\"-147\" font-family=\"Times,serif\" font-size=\"14.00\" fill=\"#000000\"> &gt; 0.57</text>\n",
       "</g>\n",
       "<!-- rrr -->\n",
       "<g id=\"node11\" class=\"node\">\n",
       "<title>rrr</title>\n",
       "<ellipse fill=\"none\" stroke=\"#000000\" cx=\"528.3475\" cy=\"-106.8\" rx=\"49.2338\" ry=\"18\"/>\n",
       "<text text-anchor=\"middle\" x=\"528.3475\" y=\"-102.6\" font-family=\"Times,serif\" font-size=\"14.00\" fill=\"#000000\">:chlorides</text>\n",
       "</g>\n",
       "<!-- rr&#45;&gt;rrr -->\n",
       "<g id=\"edge10\" class=\"edge\">\n",
       "<title>rr&#45;&gt;rrr</title>\n",
       "<path fill=\"none\" stroke=\"#000000\" d=\"M417.4828,-179.7243C439.3678,-165.3289 471.7995,-143.996 495.9381,-128.1182\"/>\n",
       "<polygon fill=\"#000000\" stroke=\"#000000\" points=\"497.99,-130.9579 504.4212,-122.5382 494.1431,-125.1096 497.99,-130.9579\"/>\n",
       "<text text-anchor=\"middle\" x=\"493.0448\" y=\"-147\" font-family=\"Times,serif\" font-size=\"14.00\" fill=\"#000000\"> &lt; 0.57</text>\n",
       "</g>\n",
       "<!-- rlll -->\n",
       "<g id=\"node6\" class=\"node\">\n",
       "<title>rlll</title>\n",
       "<ellipse fill=\"none\" stroke=\"#ff0000\" cx=\"30.3475\" cy=\"-18\" rx=\"30.1958\" ry=\"18\"/>\n",
       "<text text-anchor=\"middle\" x=\"30.3475\" y=\"-13.8\" font-family=\"Times,serif\" font-size=\"14.00\" fill=\"#000000\">malo</text>\n",
       "</g>\n",
       "<!-- rll&#45;&gt;rlll -->\n",
       "<g id=\"edge5\" class=\"edge\">\n",
       "<title>rll&#45;&gt;rlll</title>\n",
       "<path fill=\"none\" stroke=\"#000000\" d=\"M90.384,-89.4363C83.5141,-83.8057 76.1631,-77.322 69.9529,-70.8 61.9288,-62.3731 54.0388,-52.3237 47.439,-43.2649\"/>\n",
       "<polygon fill=\"#000000\" stroke=\"#000000\" points=\"50.1896,-41.0934 41.5445,-34.9686 44.4833,-45.1477 50.1896,-41.0934\"/>\n",
       "<text text-anchor=\"middle\" x=\"90.0448\" y=\"-58.2\" font-family=\"Times,serif\" font-size=\"14.00\" fill=\"#000000\"> &gt; 0.76</text>\n",
       "</g>\n",
       "<!-- rllr -->\n",
       "<g id=\"node7\" class=\"node\">\n",
       "<title>rllr</title>\n",
       "<ellipse fill=\"none\" stroke=\"#00ff00\" cx=\"113.3475\" cy=\"-18\" rx=\"34.7748\" ry=\"18\"/>\n",
       "<text text-anchor=\"middle\" x=\"113.3475\" y=\"-13.8\" font-family=\"Times,serif\" font-size=\"14.00\" fill=\"#000000\">bueno</text>\n",
       "</g>\n",
       "<!-- rll&#45;&gt;rllr -->\n",
       "<g id=\"edge6\" class=\"edge\">\n",
       "<title>rll&#45;&gt;rllr</title>\n",
       "<path fill=\"none\" stroke=\"#000000\" d=\"M113.3475,-88.4006C113.3475,-76.2949 113.3475,-60.2076 113.3475,-46.4674\"/>\n",
       "<polygon fill=\"#000000\" stroke=\"#000000\" points=\"116.8476,-46.072 113.3475,-36.072 109.8476,-46.0721 116.8476,-46.072\"/>\n",
       "<text text-anchor=\"middle\" x=\"133.0448\" y=\"-58.2\" font-family=\"Times,serif\" font-size=\"14.00\" fill=\"#000000\"> &lt; 0.76</text>\n",
       "</g>\n",
       "<!-- rlrl -->\n",
       "<g id=\"node8\" class=\"node\">\n",
       "<title>rlrl</title>\n",
       "<ellipse fill=\"none\" stroke=\"#00ff00\" cx=\"200.3475\" cy=\"-18\" rx=\"34.7748\" ry=\"18\"/>\n",
       "<text text-anchor=\"middle\" x=\"200.3475\" y=\"-13.8\" font-family=\"Times,serif\" font-size=\"14.00\" fill=\"#000000\">bueno</text>\n",
       "</g>\n",
       "<!-- rlr&#45;&gt;rlrl -->\n",
       "<g id=\"edge7\" class=\"edge\">\n",
       "<title>rlr&#45;&gt;rlrl</title>\n",
       "<path fill=\"none\" stroke=\"#000000\" d=\"M241.5873,-89.744C236.1795,-84.0261 230.4757,-77.4152 225.9529,-70.8 220.5219,-62.8565 215.6129,-53.587 211.58,-45.0513\"/>\n",
       "<polygon fill=\"#000000\" stroke=\"#000000\" points=\"214.7238,-43.5087 207.4178,-35.8358 208.3443,-46.3901 214.7238,-43.5087\"/>\n",
       "<text text-anchor=\"middle\" x=\"246.0448\" y=\"-58.2\" font-family=\"Times,serif\" font-size=\"14.00\" fill=\"#000000\"> &gt; 0.54</text>\n",
       "</g>\n",
       "<!-- rlrr -->\n",
       "<g id=\"node9\" class=\"node\">\n",
       "<title>rlrr</title>\n",
       "<ellipse fill=\"none\" stroke=\"#ff0000\" cx=\"283.3475\" cy=\"-18\" rx=\"30.1958\" ry=\"18\"/>\n",
       "<text text-anchor=\"middle\" x=\"283.3475\" y=\"-13.8\" font-family=\"Times,serif\" font-size=\"14.00\" fill=\"#000000\">malo</text>\n",
       "</g>\n",
       "<!-- rlr&#45;&gt;rlrr -->\n",
       "<g id=\"edge8\" class=\"edge\">\n",
       "<title>rlr&#45;&gt;rlrr</title>\n",
       "<path fill=\"none\" stroke=\"#000000\" d=\"M264.2043,-88.83C267.5549,-76.4327 272.0737,-59.713 275.8796,-45.6312\"/>\n",
       "<polygon fill=\"#000000\" stroke=\"#000000\" points=\"279.2676,-46.5101 278.498,-35.9433 272.51,-44.6837 279.2676,-46.5101\"/>\n",
       "<text text-anchor=\"middle\" x=\"294.0448\" y=\"-58.2\" font-family=\"Times,serif\" font-size=\"14.00\" fill=\"#000000\"> &lt; 0.54</text>\n",
       "</g>\n",
       "<!-- rrll -->\n",
       "<g id=\"node12\" class=\"node\">\n",
       "<title>rrll</title>\n",
       "<ellipse fill=\"none\" stroke=\"#00ff00\" cx=\"366.3475\" cy=\"-18\" rx=\"34.7748\" ry=\"18\"/>\n",
       "<text text-anchor=\"middle\" x=\"366.3475\" y=\"-13.8\" font-family=\"Times,serif\" font-size=\"14.00\" fill=\"#000000\">bueno</text>\n",
       "</g>\n",
       "<!-- rrl&#45;&gt;rrll -->\n",
       "<g id=\"edge11\" class=\"edge\">\n",
       "<title>rrl&#45;&gt;rrll</title>\n",
       "<path fill=\"none\" stroke=\"#000000\" d=\"M387.8836,-88.83C384.1142,-76.4327 379.0305,-59.713 374.7489,-45.6312\"/>\n",
       "<polygon fill=\"#000000\" stroke=\"#000000\" points=\"378.061,-44.4926 371.8032,-35.9433 371.3637,-46.529 378.061,-44.4926\"/>\n",
       "<text text-anchor=\"middle\" x=\"402.0448\" y=\"-58.2\" font-family=\"Times,serif\" font-size=\"14.00\" fill=\"#000000\"> &gt; 10.7</text>\n",
       "</g>\n",
       "<!-- rrlr -->\n",
       "<g id=\"node13\" class=\"node\">\n",
       "<title>rrlr</title>\n",
       "<ellipse fill=\"none\" stroke=\"#ff0000\" cx=\"449.3475\" cy=\"-18\" rx=\"30.1958\" ry=\"18\"/>\n",
       "<text text-anchor=\"middle\" x=\"449.3475\" y=\"-13.8\" font-family=\"Times,serif\" font-size=\"14.00\" fill=\"#000000\">malo</text>\n",
       "</g>\n",
       "<!-- rrl&#45;&gt;rrlr -->\n",
       "<g id=\"edge12\" class=\"edge\">\n",
       "<title>rrl&#45;&gt;rrlr</title>\n",
       "<path fill=\"none\" stroke=\"#000000\" d=\"M410.7554,-89.3468C415.8406,-83.7125 421.1531,-77.2493 425.3475,-70.8 430.477,-62.9129 435.0593,-53.7493 438.8105,-45.2918\"/>\n",
       "<polygon fill=\"#000000\" stroke=\"#000000\" points=\"442.15,-46.3804 442.8153,-35.8065 435.7012,-43.6576 442.15,-46.3804\"/>\n",
       "<text text-anchor=\"middle\" x=\"455.0448\" y=\"-58.2\" font-family=\"Times,serif\" font-size=\"14.00\" fill=\"#000000\"> &lt; 10.7</text>\n",
       "</g>\n",
       "<!-- rrrl -->\n",
       "<g id=\"node14\" class=\"node\">\n",
       "<title>rrrl</title>\n",
       "<ellipse fill=\"none\" stroke=\"#ff0000\" cx=\"528.3475\" cy=\"-18\" rx=\"30.1958\" ry=\"18\"/>\n",
       "<text text-anchor=\"middle\" x=\"528.3475\" y=\"-13.8\" font-family=\"Times,serif\" font-size=\"14.00\" fill=\"#000000\">malo</text>\n",
       "</g>\n",
       "<!-- rrr&#45;&gt;rrrl -->\n",
       "<g id=\"edge13\" class=\"edge\">\n",
       "<title>rrr&#45;&gt;rrrl</title>\n",
       "<path fill=\"none\" stroke=\"#000000\" d=\"M528.3475,-88.4006C528.3475,-76.2949 528.3475,-60.2076 528.3475,-46.4674\"/>\n",
       "<polygon fill=\"#000000\" stroke=\"#000000\" points=\"531.8476,-46.072 528.3475,-36.072 524.8476,-46.0721 531.8476,-46.072\"/>\n",
       "<text text-anchor=\"middle\" x=\"551.5448\" y=\"-58.2\" font-family=\"Times,serif\" font-size=\"14.00\" fill=\"#000000\"> &gt; 0.079</text>\n",
       "</g>\n",
       "<!-- rrrr -->\n",
       "<g id=\"node15\" class=\"node\">\n",
       "<title>rrrr</title>\n",
       "<ellipse fill=\"none\" stroke=\"#ff0000\" cx=\"607.3475\" cy=\"-18\" rx=\"30.1958\" ry=\"18\"/>\n",
       "<text text-anchor=\"middle\" x=\"607.3475\" y=\"-13.8\" font-family=\"Times,serif\" font-size=\"14.00\" fill=\"#000000\">malo</text>\n",
       "</g>\n",
       "<!-- rrr&#45;&gt;rrrr -->\n",
       "<g id=\"edge14\" class=\"edge\">\n",
       "<title>rrr&#45;&gt;rrrr</title>\n",
       "<path fill=\"none\" stroke=\"#000000\" d=\"M554.2938,-91.3801C562.6269,-85.6196 571.4708,-78.5694 578.3475,-70.8 585.0667,-63.2085 590.8555,-53.7954 595.455,-45.0289\"/>\n",
       "<polygon fill=\"#000000\" stroke=\"#000000\" points=\"598.6798,-46.4032 599.967,-35.8868 592.4026,-43.3051 598.6798,-46.4032\"/>\n",
       "<text text-anchor=\"middle\" x=\"612.5448\" y=\"-58.2\" font-family=\"Times,serif\" font-size=\"14.00\" fill=\"#000000\"> &lt; 0.079</text>\n",
       "</g>\n",
       "</g>\n",
       "</svg>\n"
      ]
     },
     "execution_count": 11,
     "metadata": {},
     "output_type": "execute_result"
    }
   ],
   "source": [
    "(defn print-leaf [name node]\n",
    "    (if (= (:predict node) \"buena calidad\")\n",
    "        [(str name \"[label=\\\"bueno\\\",color=green]\")]\n",
    "        [(str name \"[label=\\\"malo\\\",color=red]\")]))\n",
    "\n",
    "(defn print-node [name node]\n",
    "    (if (nil? (:predict node))\n",
    "        (print-tree node name)\n",
    "        (print-leaf name node)))\n",
    "\n",
    "(defn print-tree [node root-name]\n",
    "    (let [left-node (:left node) left-name (str root-name \"l\")\n",
    "          right-node (:right node) right-name (str root-name \"r\")]\n",
    "        [(str root-name \"[label=\\\"\" (:feature node) \"\\\"]\")\n",
    "         (str root-name \"->\" left-name \"[label=\\\" > \" (:threshold node) \"\\\"]\")\n",
    "         (str root-name \"->\" right-name \"[label=\\\" < \" (:threshold node) \"\\\"]\")\n",
    "         (print-node left-name left-node)\n",
    "         (print-node right-name right-node)]))\n",
    "\n",
    "(defn display-tree [tree]\n",
    "    (->>\n",
    "        tree\n",
    "        (print-node \"r\")\n",
    "        flatten\n",
    "        (clojure.string/join \";\")\n",
    "        ((fn [s] (str \"https://quickchart.io/graphviz?graph=digraph{\" s \"}\")))\n",
    "        client/get\n",
    "        :body\n",
    "        display/html))\n",
    "\n",
    "(display-tree tree)"
   ]
  },
  {
   "cell_type": "code",
   "execution_count": null,
   "metadata": {},
   "outputs": [],
   "source": []
  }
 ],
 "metadata": {
  "kernelspec": {
   "display_name": "Clojure (clojupyter=0.3.2=1)",
   "language": "clojure",
   "name": "conda-clojupyter"
  },
  "language_info": {
   "file_extension": ".clj",
   "mimetype": "text/x-clojure",
   "name": "clojure",
   "version": "1.10.1"
  }
 },
 "nbformat": 4,
 "nbformat_minor": 4
}
